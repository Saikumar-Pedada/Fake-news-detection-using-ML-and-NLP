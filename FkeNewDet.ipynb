{
 "cells": [
  {
   "cell_type": "markdown",
   "metadata": {},
   "source": [
    "# Fake News Detection Using Machine Learning Algorithm And Comparitive analysis of Algorithms by Preformance Metrices."
   ]
  },
  {
   "cell_type": "code",
   "execution_count": 2,
   "metadata": {},
   "outputs": [],
   "source": [
    "import pandas as pd\n",
    "import numpy as np\n",
    "import itertools\n",
    "import random\n",
    "random.seed(123)"
   ]
  },
  {
   "cell_type": "markdown",
   "metadata": {},
   "source": [
    "Importing Dataset"
   ]
  },
  {
   "cell_type": "code",
   "execution_count": 3,
   "metadata": {},
   "outputs": [],
   "source": [
    "df = pd.read_csv(\"NewsData.csv\")"
   ]
  },
  {
   "cell_type": "code",
   "execution_count": 4,
   "metadata": {},
   "outputs": [
    {
     "data": {
      "text/html": [
       "<div>\n",
       "<style scoped>\n",
       "    .dataframe tbody tr th:only-of-type {\n",
       "        vertical-align: middle;\n",
       "    }\n",
       "\n",
       "    .dataframe tbody tr th {\n",
       "        vertical-align: top;\n",
       "    }\n",
       "\n",
       "    .dataframe thead th {\n",
       "        text-align: right;\n",
       "    }\n",
       "</style>\n",
       "<table border=\"1\" class=\"dataframe\">\n",
       "  <thead>\n",
       "    <tr style=\"text-align: right;\">\n",
       "      <th></th>\n",
       "      <th>id</th>\n",
       "      <th>title</th>\n",
       "      <th>text</th>\n",
       "      <th>label</th>\n",
       "    </tr>\n",
       "  </thead>\n",
       "  <tbody>\n",
       "    <tr>\n",
       "      <th>0</th>\n",
       "      <td>1</td>\n",
       "      <td>2017 Pulitzer Prize Winners - The New York Times</td>\n",
       "      <td>The Pulitzer Prizes awarded Monday encompassed...</td>\n",
       "      <td>REAL</td>\n",
       "    </tr>\n",
       "    <tr>\n",
       "      <th>1</th>\n",
       "      <td>2</td>\n",
       "      <td>Palin's endorsement fails to excite Trump rall...</td>\n",
       "      <td>NORWALK, Iowa (Reuters) - When it comes to inf...</td>\n",
       "      <td>REAL</td>\n",
       "    </tr>\n",
       "    <tr>\n",
       "      <th>2</th>\n",
       "      <td>3</td>\n",
       "      <td>Interior Department watchdog to investigate th...</td>\n",
       "      <td>WASHINGTON (Reuters) - The Interior Department...</td>\n",
       "      <td>REAL</td>\n",
       "    </tr>\n",
       "    <tr>\n",
       "      <th>3</th>\n",
       "      <td>4</td>\n",
       "      <td>SORE LOSER MICHAEL MOORE Calls On “Comrades” T...</td>\n",
       "      <td>Disrupt the Inauguration. The Majority have s...</td>\n",
       "      <td>FAKE</td>\n",
       "    </tr>\n",
       "    <tr>\n",
       "      <th>4</th>\n",
       "      <td>5</td>\n",
       "      <td>Austria's conservatives reach coalition deal w...</td>\n",
       "      <td>VIENNA (Reuters) - Austria s conservative Peop...</td>\n",
       "      <td>REAL</td>\n",
       "    </tr>\n",
       "  </tbody>\n",
       "</table>\n",
       "</div>"
      ],
      "text/plain": [
       "   id                                              title  \\\n",
       "0   1   2017 Pulitzer Prize Winners - The New York Times   \n",
       "1   2  Palin's endorsement fails to excite Trump rall...   \n",
       "2   3  Interior Department watchdog to investigate th...   \n",
       "3   4  SORE LOSER MICHAEL MOORE Calls On “Comrades” T...   \n",
       "4   5  Austria's conservatives reach coalition deal w...   \n",
       "\n",
       "                                                text label  \n",
       "0  The Pulitzer Prizes awarded Monday encompassed...  REAL  \n",
       "1  NORWALK, Iowa (Reuters) - When it comes to inf...  REAL  \n",
       "2  WASHINGTON (Reuters) - The Interior Department...  REAL  \n",
       "3   Disrupt the Inauguration. The Majority have s...  FAKE  \n",
       "4  VIENNA (Reuters) - Austria s conservative Peop...  REAL  "
      ]
     },
     "execution_count": 4,
     "metadata": {},
     "output_type": "execute_result"
    }
   ],
   "source": [
    "df.head()"
   ]
  },
  {
   "cell_type": "code",
   "execution_count": 5,
   "metadata": {},
   "outputs": [
    {
     "data": {
      "text/plain": [
       "(66536, 4)"
      ]
     },
     "execution_count": 5,
     "metadata": {},
     "output_type": "execute_result"
    }
   ],
   "source": [
    "df.shape"
   ]
  },
  {
   "cell_type": "code",
   "execution_count": 6,
   "metadata": {},
   "outputs": [],
   "source": [
    "counts = pd.value_counts(df.label)"
   ]
  },
  {
   "cell_type": "code",
   "execution_count": 7,
   "metadata": {},
   "outputs": [
    {
     "data": {
      "text/plain": [
       "REAL    36416\n",
       "FAKE    30120\n",
       "Name: label, dtype: int64"
      ]
     },
     "execution_count": 7,
     "metadata": {},
     "output_type": "execute_result"
    }
   ],
   "source": [
    "counts"
   ]
  },
  {
   "cell_type": "code",
   "execution_count": 8,
   "metadata": {},
   "outputs": [
    {
     "name": "stdout",
     "output_type": "stream",
     "text": [
      "<class 'pandas.core.frame.DataFrame'>\n",
      "RangeIndex: 66536 entries, 0 to 66535\n",
      "Data columns (total 4 columns):\n",
      "id       66536 non-null int64\n",
      "title    66535 non-null object\n",
      "text     66490 non-null object\n",
      "label    66536 non-null object\n",
      "dtypes: int64(1), object(3)\n",
      "memory usage: 2.0+ MB\n"
     ]
    }
   ],
   "source": [
    "df.info()"
   ]
  },
  {
   "cell_type": "code",
   "execution_count": 9,
   "metadata": {},
   "outputs": [
    {
     "data": {
      "text/plain": [
       "id        0\n",
       "title     1\n",
       "text     46\n",
       "label     0\n",
       "dtype: int64"
      ]
     },
     "execution_count": 9,
     "metadata": {},
     "output_type": "execute_result"
    }
   ],
   "source": [
    "df.isnull().sum()"
   ]
  },
  {
   "cell_type": "code",
   "execution_count": 10,
   "metadata": {},
   "outputs": [],
   "source": [
    "labels = df.label"
   ]
  },
  {
   "cell_type": "code",
   "execution_count": 11,
   "metadata": {},
   "outputs": [],
   "source": [
    "df = df.dropna()"
   ]
  },
  {
   "cell_type": "code",
   "execution_count": 12,
   "metadata": {},
   "outputs": [
    {
     "data": {
      "text/plain": [
       "(66489, 4)"
      ]
     },
     "execution_count": 12,
     "metadata": {},
     "output_type": "execute_result"
    }
   ],
   "source": [
    "df.shape"
   ]
  },
  {
   "cell_type": "code",
   "execution_count": 13,
   "metadata": {},
   "outputs": [
    {
     "data": {
      "text/plain": [
       "0    REAL\n",
       "1    REAL\n",
       "2    REAL\n",
       "3    FAKE\n",
       "4    REAL\n",
       "Name: label, dtype: object"
      ]
     },
     "execution_count": 13,
     "metadata": {},
     "output_type": "execute_result"
    }
   ],
   "source": [
    "labels.head()"
   ]
  },
  {
   "cell_type": "code",
   "execution_count": 14,
   "metadata": {},
   "outputs": [
    {
     "data": {
      "text/plain": [
       "66489"
      ]
     },
     "execution_count": 14,
     "metadata": {},
     "output_type": "execute_result"
    }
   ],
   "source": [
    "labels_length = len(df['label'])\n",
    "labels_length"
   ]
  },
  {
   "cell_type": "code",
   "execution_count": 15,
   "metadata": {},
   "outputs": [
    {
     "data": {
      "text/plain": [
       "66489"
      ]
     },
     "execution_count": 15,
     "metadata": {},
     "output_type": "execute_result"
    }
   ],
   "source": [
    "text_length = len(df['text'])\n",
    "text_length"
   ]
  },
  {
   "cell_type": "markdown",
   "metadata": {},
   "source": [
    "Mapping REAL to 1 and Fake to 0"
   ]
  },
  {
   "cell_type": "code",
   "execution_count": 16,
   "metadata": {},
   "outputs": [],
   "source": [
    "df['label'] = df['label'].map({'REAL':1 ,'FAKE':0})"
   ]
  },
  {
   "cell_type": "code",
   "execution_count": 17,
   "metadata": {},
   "outputs": [
    {
     "data": {
      "text/html": [
       "<div>\n",
       "<style scoped>\n",
       "    .dataframe tbody tr th:only-of-type {\n",
       "        vertical-align: middle;\n",
       "    }\n",
       "\n",
       "    .dataframe tbody tr th {\n",
       "        vertical-align: top;\n",
       "    }\n",
       "\n",
       "    .dataframe thead th {\n",
       "        text-align: right;\n",
       "    }\n",
       "</style>\n",
       "<table border=\"1\" class=\"dataframe\">\n",
       "  <thead>\n",
       "    <tr style=\"text-align: right;\">\n",
       "      <th></th>\n",
       "      <th>id</th>\n",
       "      <th>title</th>\n",
       "      <th>text</th>\n",
       "      <th>label</th>\n",
       "    </tr>\n",
       "  </thead>\n",
       "  <tbody>\n",
       "    <tr>\n",
       "      <th>0</th>\n",
       "      <td>1</td>\n",
       "      <td>2017 Pulitzer Prize Winners - The New York Times</td>\n",
       "      <td>The Pulitzer Prizes awarded Monday encompassed...</td>\n",
       "      <td>1</td>\n",
       "    </tr>\n",
       "    <tr>\n",
       "      <th>1</th>\n",
       "      <td>2</td>\n",
       "      <td>Palin's endorsement fails to excite Trump rall...</td>\n",
       "      <td>NORWALK, Iowa (Reuters) - When it comes to inf...</td>\n",
       "      <td>1</td>\n",
       "    </tr>\n",
       "    <tr>\n",
       "      <th>2</th>\n",
       "      <td>3</td>\n",
       "      <td>Interior Department watchdog to investigate th...</td>\n",
       "      <td>WASHINGTON (Reuters) - The Interior Department...</td>\n",
       "      <td>1</td>\n",
       "    </tr>\n",
       "    <tr>\n",
       "      <th>3</th>\n",
       "      <td>4</td>\n",
       "      <td>SORE LOSER MICHAEL MOORE Calls On “Comrades” T...</td>\n",
       "      <td>Disrupt the Inauguration. The Majority have s...</td>\n",
       "      <td>0</td>\n",
       "    </tr>\n",
       "    <tr>\n",
       "      <th>4</th>\n",
       "      <td>5</td>\n",
       "      <td>Austria's conservatives reach coalition deal w...</td>\n",
       "      <td>VIENNA (Reuters) - Austria s conservative Peop...</td>\n",
       "      <td>1</td>\n",
       "    </tr>\n",
       "  </tbody>\n",
       "</table>\n",
       "</div>"
      ],
      "text/plain": [
       "   id                                              title  \\\n",
       "0   1   2017 Pulitzer Prize Winners - The New York Times   \n",
       "1   2  Palin's endorsement fails to excite Trump rall...   \n",
       "2   3  Interior Department watchdog to investigate th...   \n",
       "3   4  SORE LOSER MICHAEL MOORE Calls On “Comrades” T...   \n",
       "4   5  Austria's conservatives reach coalition deal w...   \n",
       "\n",
       "                                                text  label  \n",
       "0  The Pulitzer Prizes awarded Monday encompassed...      1  \n",
       "1  NORWALK, Iowa (Reuters) - When it comes to inf...      1  \n",
       "2  WASHINGTON (Reuters) - The Interior Department...      1  \n",
       "3   Disrupt the Inauguration. The Majority have s...      0  \n",
       "4  VIENNA (Reuters) - Austria s conservative Peop...      1  "
      ]
     },
     "execution_count": 17,
     "metadata": {},
     "output_type": "execute_result"
    }
   ],
   "source": [
    "df.head()"
   ]
  },
  {
   "cell_type": "markdown",
   "metadata": {},
   "source": [
    "Splitting it into Training and Testing Dataset"
   ]
  },
  {
   "cell_type": "code",
   "execution_count": 18,
   "metadata": {},
   "outputs": [],
   "source": [
    "from sklearn.model_selection import train_test_split"
   ]
  },
  {
   "cell_type": "code",
   "execution_count": 19,
   "metadata": {},
   "outputs": [],
   "source": [
    "X_train, x_test, y_train, y_test =  train_test_split(df['text'], df['label'], test_size=0.2, random_state = 20)"
   ]
  },
  {
   "cell_type": "code",
   "execution_count": 20,
   "metadata": {},
   "outputs": [
    {
     "data": {
      "text/plain": [
       "30672    Pussy Riot Released The Perfect Nasty Woman’s ...\n",
       "2519     The social justice warriors are being terroriz...\n",
       "56288    Hillary Clinton is reportedly in the process o...\n",
       "10345    Just in case you needed any more proof that Do...\n",
       "6299     ISTANBUL (Reuters) - The U.S. ambassador to Tu...\n",
       "Name: text, dtype: object"
      ]
     },
     "execution_count": 20,
     "metadata": {},
     "output_type": "execute_result"
    }
   ],
   "source": [
    "X_train.head()"
   ]
  },
  {
   "cell_type": "code",
   "execution_count": 21,
   "metadata": {},
   "outputs": [
    {
     "data": {
      "text/plain": [
       "(53191,)"
      ]
     },
     "execution_count": 21,
     "metadata": {},
     "output_type": "execute_result"
    }
   ],
   "source": [
    "X_train.shape"
   ]
  },
  {
   "cell_type": "code",
   "execution_count": 22,
   "metadata": {},
   "outputs": [
    {
     "data": {
      "text/plain": [
       "(13298,)"
      ]
     },
     "execution_count": 22,
     "metadata": {},
     "output_type": "execute_result"
    }
   ],
   "source": [
    "x_test.shape"
   ]
  },
  {
   "cell_type": "code",
   "execution_count": 23,
   "metadata": {},
   "outputs": [
    {
     "data": {
      "text/plain": [
       "(53191,)"
      ]
     },
     "execution_count": 23,
     "metadata": {},
     "output_type": "execute_result"
    }
   ],
   "source": [
    "y_train.shape"
   ]
  },
  {
   "cell_type": "code",
   "execution_count": 24,
   "metadata": {},
   "outputs": [
    {
     "data": {
      "text/plain": [
       "(13298,)"
      ]
     },
     "execution_count": 24,
     "metadata": {},
     "output_type": "execute_result"
    }
   ],
   "source": [
    "y_test.shape"
   ]
  },
  {
   "cell_type": "code",
   "execution_count": 25,
   "metadata": {},
   "outputs": [
    {
     "data": {
      "text/plain": [
       "30672    Pussy Riot Released The Perfect Nasty Woman’s ...\n",
       "2519     The social justice warriors are being terroriz...\n",
       "56288    Hillary Clinton is reportedly in the process o...\n",
       "10345    Just in case you needed any more proof that Do...\n",
       "6299     ISTANBUL (Reuters) - The U.S. ambassador to Tu...\n",
       "Name: text, dtype: object"
      ]
     },
     "execution_count": 25,
     "metadata": {},
     "output_type": "execute_result"
    }
   ],
   "source": [
    "X_train.head()"
   ]
  },
  {
   "cell_type": "code",
   "execution_count": 26,
   "metadata": {},
   "outputs": [
    {
     "data": {
      "text/plain": [
       "55938    How can my team make the N. F. L. playoffs? It...\n",
       "21391    ATLANTA  —   The most arresting vista in town ...\n",
       "34933    WASHINGTON (Reuters) - The U.S. Justice Depart...\n",
       "7671     BEIJING (Reuters) - China on Wednesday urged p...\n",
       "43827    President Donald Trump has scheduled five call...\n",
       "Name: text, dtype: object"
      ]
     },
     "execution_count": 26,
     "metadata": {},
     "output_type": "execute_result"
    }
   ],
   "source": [
    "x_test.head()"
   ]
  },
  {
   "cell_type": "code",
   "execution_count": 27,
   "metadata": {},
   "outputs": [
    {
     "name": "stdout",
     "output_type": "stream",
     "text": [
      "y_train counts:\n",
      " 1    29085\n",
      "0    24106\n",
      "Name: label, dtype: int64\n",
      "y_test counts:\n",
      " 1    7331\n",
      "0    5967\n",
      "Name: label, dtype: int64\n"
     ]
    }
   ],
   "source": [
    "# count the number of 'REAL' and 'FAKE' values in y_train\n",
    "y_train_counts = pd.value_counts(y_train)\n",
    "\n",
    "# count the number of 'REAL' and 'FAKE' values in y_test\n",
    "y_test_counts = pd.value_counts(y_test)\n",
    "\n",
    "# print the counts\n",
    "print(\"y_train counts:\\n\", y_train_counts)\n",
    "print(\"y_test counts:\\n\", y_test_counts)"
   ]
  },
  {
   "cell_type": "markdown",
   "metadata": {},
   "source": [
    "Getting the Test Dataset"
   ]
  },
  {
   "cell_type": "code",
   "execution_count": 30,
   "metadata": {},
   "outputs": [],
   "source": [
    "testDataSet = pd.concat([x_test, y_test], axis=1)"
   ]
  },
  {
   "cell_type": "code",
   "execution_count": 31,
   "metadata": {
    "scrolled": true
   },
   "outputs": [
    {
     "data": {
      "text/html": [
       "<div>\n",
       "<style scoped>\n",
       "    .dataframe tbody tr th:only-of-type {\n",
       "        vertical-align: middle;\n",
       "    }\n",
       "\n",
       "    .dataframe tbody tr th {\n",
       "        vertical-align: top;\n",
       "    }\n",
       "\n",
       "    .dataframe thead th {\n",
       "        text-align: right;\n",
       "    }\n",
       "</style>\n",
       "<table border=\"1\" class=\"dataframe\">\n",
       "  <thead>\n",
       "    <tr style=\"text-align: right;\">\n",
       "      <th></th>\n",
       "      <th>text</th>\n",
       "      <th>label</th>\n",
       "    </tr>\n",
       "  </thead>\n",
       "  <tbody>\n",
       "    <tr>\n",
       "      <th>55938</th>\n",
       "      <td>How can my team make the N. F. L. playoffs? It...</td>\n",
       "      <td>1</td>\n",
       "    </tr>\n",
       "    <tr>\n",
       "      <th>21391</th>\n",
       "      <td>ATLANTA  —   The most arresting vista in town ...</td>\n",
       "      <td>1</td>\n",
       "    </tr>\n",
       "    <tr>\n",
       "      <th>34933</th>\n",
       "      <td>WASHINGTON (Reuters) - The U.S. Justice Depart...</td>\n",
       "      <td>1</td>\n",
       "    </tr>\n",
       "    <tr>\n",
       "      <th>7671</th>\n",
       "      <td>BEIJING (Reuters) - China on Wednesday urged p...</td>\n",
       "      <td>1</td>\n",
       "    </tr>\n",
       "    <tr>\n",
       "      <th>43827</th>\n",
       "      <td>President Donald Trump has scheduled five call...</td>\n",
       "      <td>1</td>\n",
       "    </tr>\n",
       "    <tr>\n",
       "      <th>35613</th>\n",
       "      <td>NEW YORK (Reuters) - Would-be presidential ass...</td>\n",
       "      <td>1</td>\n",
       "    </tr>\n",
       "    <tr>\n",
       "      <th>24654</th>\n",
       "      <td>WASHINGTON (Reuters) - U.S. Democratic lawmake...</td>\n",
       "      <td>1</td>\n",
       "    </tr>\n",
       "    <tr>\n",
       "      <th>32132</th>\n",
       "      <td>Senator Elizabeth Warren continued her crusade...</td>\n",
       "      <td>0</td>\n",
       "    </tr>\n",
       "    <tr>\n",
       "      <th>9682</th>\n",
       "      <td>The nicest thing I own is the first thing you ...</td>\n",
       "      <td>1</td>\n",
       "    </tr>\n",
       "    <tr>\n",
       "      <th>65083</th>\n",
       "      <td>ISTANBUL (Reuters) - Turkey s foreign ministry...</td>\n",
       "      <td>1</td>\n",
       "    </tr>\n",
       "    <tr>\n",
       "      <th>13682</th>\n",
       "      <td>Getty - Tibrina Hobson \\nCandace Cameron Bure ...</td>\n",
       "      <td>0</td>\n",
       "    </tr>\n",
       "    <tr>\n",
       "      <th>6118</th>\n",
       "      <td>WARSAW (Reuters) - Poland wants the euro zone ...</td>\n",
       "      <td>1</td>\n",
       "    </tr>\n",
       "    <tr>\n",
       "      <th>27696</th>\n",
       "      <td>It s become increasingly common among Republic...</td>\n",
       "      <td>0</td>\n",
       "    </tr>\n",
       "    <tr>\n",
       "      <th>11608</th>\n",
       "      <td>On Monday morning, millions of Sarah Palin fan...</td>\n",
       "      <td>1</td>\n",
       "    </tr>\n",
       "    <tr>\n",
       "      <th>32195</th>\n",
       "      <td>We have to agree that the left is suffering fr...</td>\n",
       "      <td>0</td>\n",
       "    </tr>\n",
       "    <tr>\n",
       "      <th>18030</th>\n",
       "      <td>Obama and the Leftist Supreme Court activists ...</td>\n",
       "      <td>0</td>\n",
       "    </tr>\n",
       "    <tr>\n",
       "      <th>14231</th>\n",
       "      <td>WASHINGTON (Reuters) - Thousands of demonstrat...</td>\n",
       "      <td>1</td>\n",
       "    </tr>\n",
       "    <tr>\n",
       "      <th>60974</th>\n",
       "      <td>When the fashion designer Tommy Hilfiger wante...</td>\n",
       "      <td>1</td>\n",
       "    </tr>\n",
       "    <tr>\n",
       "      <th>1782</th>\n",
       "      <td>RIO DE JANEIRO  —   Running late after arrivin...</td>\n",
       "      <td>0</td>\n",
       "    </tr>\n",
       "    <tr>\n",
       "      <th>59120</th>\n",
       "      <td>Babies in bags and in a freezer   yes, this is...</td>\n",
       "      <td>0</td>\n",
       "    </tr>\n",
       "    <tr>\n",
       "      <th>28089</th>\n",
       "      <td>Alinsky s ideas for community organizing were ...</td>\n",
       "      <td>0</td>\n",
       "    </tr>\n",
       "    <tr>\n",
       "      <th>27414</th>\n",
       "      <td>YANGON (Reuters) - Turkey s state broadcaster ...</td>\n",
       "      <td>1</td>\n",
       "    </tr>\n",
       "    <tr>\n",
       "      <th>28634</th>\n",
       "      <td>HONG KONG (Reuters) - Hong Kong s public broad...</td>\n",
       "      <td>1</td>\n",
       "    </tr>\n",
       "    <tr>\n",
       "      <th>24853</th>\n",
       "      <td>A new voice jumped into the debate over the pr...</td>\n",
       "      <td>1</td>\n",
       "    </tr>\n",
       "    <tr>\n",
       "      <th>26771</th>\n",
       "      <td>White House lawyers last month learned that th...</td>\n",
       "      <td>0</td>\n",
       "    </tr>\n",
       "    <tr>\n",
       "      <th>40803</th>\n",
       "      <td>Eli Lake writes in Bloomberg View that the lea...</td>\n",
       "      <td>0</td>\n",
       "    </tr>\n",
       "    <tr>\n",
       "      <th>2984</th>\n",
       "      <td>When Sen. Al Franken (D-MN) announced his plan...</td>\n",
       "      <td>0</td>\n",
       "    </tr>\n",
       "    <tr>\n",
       "      <th>21724</th>\n",
       "      <td>The Bible offers up some really good advice as...</td>\n",
       "      <td>0</td>\n",
       "    </tr>\n",
       "    <tr>\n",
       "      <th>36452</th>\n",
       "      <td>NEW YORK (Reuters) - After deep cuts in spendi...</td>\n",
       "      <td>1</td>\n",
       "    </tr>\n",
       "    <tr>\n",
       "      <th>28160</th>\n",
       "      <td>LET S FACE IT EUROPE IS TOAST! HERE S A MUSLIM...</td>\n",
       "      <td>0</td>\n",
       "    </tr>\n",
       "    <tr>\n",
       "      <th>...</th>\n",
       "      <td>...</td>\n",
       "      <td>...</td>\n",
       "    </tr>\n",
       "    <tr>\n",
       "      <th>63075</th>\n",
       "      <td>DANANG, Vietnam (Reuters) - Vietnam released w...</td>\n",
       "      <td>1</td>\n",
       "    </tr>\n",
       "    <tr>\n",
       "      <th>66163</th>\n",
       "      <td>School named for Munich-massacre mastermind Te...</td>\n",
       "      <td>0</td>\n",
       "    </tr>\n",
       "    <tr>\n",
       "      <th>14468</th>\n",
       "      <td>As we said yesterday, Trump would not have mad...</td>\n",
       "      <td>0</td>\n",
       "    </tr>\n",
       "    <tr>\n",
       "      <th>41053</th>\n",
       "      <td>Hillary Clinton s corruption is on a scale we...</td>\n",
       "      <td>0</td>\n",
       "    </tr>\n",
       "    <tr>\n",
       "      <th>59820</th>\n",
       "      <td>Send your workplace conundrums to workologist@...</td>\n",
       "      <td>1</td>\n",
       "    </tr>\n",
       "    <tr>\n",
       "      <th>9370</th>\n",
       "      <td>MOSCOW (Reuters) - Russian President Vladimir ...</td>\n",
       "      <td>1</td>\n",
       "    </tr>\n",
       "    <tr>\n",
       "      <th>61197</th>\n",
       "      <td>CHICAGO (Reuters) - Illinois Governor Bruce Ra...</td>\n",
       "      <td>1</td>\n",
       "    </tr>\n",
       "    <tr>\n",
       "      <th>7748</th>\n",
       "      <td>Here are the week’s top stories, and a look ah...</td>\n",
       "      <td>1</td>\n",
       "    </tr>\n",
       "    <tr>\n",
       "      <th>29085</th>\n",
       "      <td>WASHINGTON (Reuters) - President Donald Trump ...</td>\n",
       "      <td>1</td>\n",
       "    </tr>\n",
       "    <tr>\n",
       "      <th>17646</th>\n",
       "      <td>NEW DELHI (Reuters) - India s ruling Bharatiya...</td>\n",
       "      <td>1</td>\n",
       "    </tr>\n",
       "    <tr>\n",
       "      <th>57467</th>\n",
       "      <td>MOSCOW (Reuters) - Russian Foreign Minister Se...</td>\n",
       "      <td>1</td>\n",
       "    </tr>\n",
       "    <tr>\n",
       "      <th>56444</th>\n",
       "      <td>WASHINGTON (Reuters) - The U.S. Senate voted o...</td>\n",
       "      <td>1</td>\n",
       "    </tr>\n",
       "    <tr>\n",
       "      <th>17233</th>\n",
       "      <td>BRUSSELS (Reuters) - U.S. President Donald Tru...</td>\n",
       "      <td>1</td>\n",
       "    </tr>\n",
       "    <tr>\n",
       "      <th>24718</th>\n",
       "      <td>Hillary Rodham Clinton sought to cement her st...</td>\n",
       "      <td>1</td>\n",
       "    </tr>\n",
       "    <tr>\n",
       "      <th>58332</th>\n",
       "      <td>Tesco Bank cyber raid ‘unprecedented’, says fi...</td>\n",
       "      <td>0</td>\n",
       "    </tr>\n",
       "    <tr>\n",
       "      <th>10848</th>\n",
       "      <td>A federal judge has extended Florida’s voter r...</td>\n",
       "      <td>1</td>\n",
       "    </tr>\n",
       "    <tr>\n",
       "      <th>59921</th>\n",
       "      <td>Leaked Memo Exposes Shady Dealings Between Cli...</td>\n",
       "      <td>0</td>\n",
       "    </tr>\n",
       "    <tr>\n",
       "      <th>65433</th>\n",
       "      <td>Notable names include Ray Washburne (Commerce)...</td>\n",
       "      <td>1</td>\n",
       "    </tr>\n",
       "    <tr>\n",
       "      <th>35342</th>\n",
       "      <td>HOUSTON (Reuters) - U.S. Treasury Secretary St...</td>\n",
       "      <td>1</td>\n",
       "    </tr>\n",
       "    <tr>\n",
       "      <th>18446</th>\n",
       "      <td>NANTERRE, France (Reuters) - Who are you and w...</td>\n",
       "      <td>1</td>\n",
       "    </tr>\n",
       "    <tr>\n",
       "      <th>11194</th>\n",
       "      <td>**Want FOX News First in your inbox every day?...</td>\n",
       "      <td>1</td>\n",
       "    </tr>\n",
       "    <tr>\n",
       "      <th>22516</th>\n",
       "      <td></td>\n",
       "      <td>0</td>\n",
       "    </tr>\n",
       "    <tr>\n",
       "      <th>46921</th>\n",
       "      <td>NEW YORK (Reuters) - Presumptive Republican pr...</td>\n",
       "      <td>1</td>\n",
       "    </tr>\n",
       "    <tr>\n",
       "      <th>62218</th>\n",
       "      <td>One of the three London schoolgirls who made h...</td>\n",
       "      <td>1</td>\n",
       "    </tr>\n",
       "    <tr>\n",
       "      <th>57758</th>\n",
       "      <td>WASHINGTON (Reuters) - U.S. President Donald T...</td>\n",
       "      <td>1</td>\n",
       "    </tr>\n",
       "    <tr>\n",
       "      <th>59413</th>\n",
       "      <td>By Christina Sarich A newly opened lab can now...</td>\n",
       "      <td>0</td>\n",
       "    </tr>\n",
       "    <tr>\n",
       "      <th>39171</th>\n",
       "      <td>FBI Found \"Tens Of Thousands Of Emails\" Belong...</td>\n",
       "      <td>0</td>\n",
       "    </tr>\n",
       "    <tr>\n",
       "      <th>51021</th>\n",
       "      <td>Home / Be The Change / The State / “I Can’t Be...</td>\n",
       "      <td>0</td>\n",
       "    </tr>\n",
       "    <tr>\n",
       "      <th>16447</th>\n",
       "      <td>WASHINGTON (Reuters) - U.S. President-elect Do...</td>\n",
       "      <td>1</td>\n",
       "    </tr>\n",
       "    <tr>\n",
       "      <th>3741</th>\n",
       "      <td>Email \\nOne year ago, I was arrested for both ...</td>\n",
       "      <td>0</td>\n",
       "    </tr>\n",
       "  </tbody>\n",
       "</table>\n",
       "<p>13298 rows × 2 columns</p>\n",
       "</div>"
      ],
      "text/plain": [
       "                                                    text  label\n",
       "55938  How can my team make the N. F. L. playoffs? It...      1\n",
       "21391  ATLANTA  —   The most arresting vista in town ...      1\n",
       "34933  WASHINGTON (Reuters) - The U.S. Justice Depart...      1\n",
       "7671   BEIJING (Reuters) - China on Wednesday urged p...      1\n",
       "43827  President Donald Trump has scheduled five call...      1\n",
       "35613  NEW YORK (Reuters) - Would-be presidential ass...      1\n",
       "24654  WASHINGTON (Reuters) - U.S. Democratic lawmake...      1\n",
       "32132  Senator Elizabeth Warren continued her crusade...      0\n",
       "9682   The nicest thing I own is the first thing you ...      1\n",
       "65083  ISTANBUL (Reuters) - Turkey s foreign ministry...      1\n",
       "13682  Getty - Tibrina Hobson \\nCandace Cameron Bure ...      0\n",
       "6118   WARSAW (Reuters) - Poland wants the euro zone ...      1\n",
       "27696  It s become increasingly common among Republic...      0\n",
       "11608  On Monday morning, millions of Sarah Palin fan...      1\n",
       "32195  We have to agree that the left is suffering fr...      0\n",
       "18030  Obama and the Leftist Supreme Court activists ...      0\n",
       "14231  WASHINGTON (Reuters) - Thousands of demonstrat...      1\n",
       "60974  When the fashion designer Tommy Hilfiger wante...      1\n",
       "1782   RIO DE JANEIRO  —   Running late after arrivin...      0\n",
       "59120  Babies in bags and in a freezer   yes, this is...      0\n",
       "28089  Alinsky s ideas for community organizing were ...      0\n",
       "27414  YANGON (Reuters) - Turkey s state broadcaster ...      1\n",
       "28634  HONG KONG (Reuters) - Hong Kong s public broad...      1\n",
       "24853  A new voice jumped into the debate over the pr...      1\n",
       "26771  White House lawyers last month learned that th...      0\n",
       "40803  Eli Lake writes in Bloomberg View that the lea...      0\n",
       "2984   When Sen. Al Franken (D-MN) announced his plan...      0\n",
       "21724  The Bible offers up some really good advice as...      0\n",
       "36452  NEW YORK (Reuters) - After deep cuts in spendi...      1\n",
       "28160  LET S FACE IT EUROPE IS TOAST! HERE S A MUSLIM...      0\n",
       "...                                                  ...    ...\n",
       "63075  DANANG, Vietnam (Reuters) - Vietnam released w...      1\n",
       "66163  School named for Munich-massacre mastermind Te...      0\n",
       "14468  As we said yesterday, Trump would not have mad...      0\n",
       "41053   Hillary Clinton s corruption is on a scale we...      0\n",
       "59820  Send your workplace conundrums to workologist@...      1\n",
       "9370   MOSCOW (Reuters) - Russian President Vladimir ...      1\n",
       "61197  CHICAGO (Reuters) - Illinois Governor Bruce Ra...      1\n",
       "7748   Here are the week’s top stories, and a look ah...      1\n",
       "29085  WASHINGTON (Reuters) - President Donald Trump ...      1\n",
       "17646  NEW DELHI (Reuters) - India s ruling Bharatiya...      1\n",
       "57467  MOSCOW (Reuters) - Russian Foreign Minister Se...      1\n",
       "56444  WASHINGTON (Reuters) - The U.S. Senate voted o...      1\n",
       "17233  BRUSSELS (Reuters) - U.S. President Donald Tru...      1\n",
       "24718  Hillary Rodham Clinton sought to cement her st...      1\n",
       "58332  Tesco Bank cyber raid ‘unprecedented’, says fi...      0\n",
       "10848  A federal judge has extended Florida’s voter r...      1\n",
       "59921  Leaked Memo Exposes Shady Dealings Between Cli...      0\n",
       "65433  Notable names include Ray Washburne (Commerce)...      1\n",
       "35342  HOUSTON (Reuters) - U.S. Treasury Secretary St...      1\n",
       "18446  NANTERRE, France (Reuters) - Who are you and w...      1\n",
       "11194  **Want FOX News First in your inbox every day?...      1\n",
       "22516                                                         0\n",
       "46921  NEW YORK (Reuters) - Presumptive Republican pr...      1\n",
       "62218  One of the three London schoolgirls who made h...      1\n",
       "57758  WASHINGTON (Reuters) - U.S. President Donald T...      1\n",
       "59413  By Christina Sarich A newly opened lab can now...      0\n",
       "39171  FBI Found \"Tens Of Thousands Of Emails\" Belong...      0\n",
       "51021  Home / Be The Change / The State / “I Can’t Be...      0\n",
       "16447  WASHINGTON (Reuters) - U.S. President-elect Do...      1\n",
       "3741   Email \\nOne year ago, I was arrested for both ...      0\n",
       "\n",
       "[13298 rows x 2 columns]"
      ]
     },
     "execution_count": 31,
     "metadata": {},
     "output_type": "execute_result"
    }
   ],
   "source": [
    "testDataSet"
   ]
  },
  {
   "cell_type": "code",
   "execution_count": 32,
   "metadata": {},
   "outputs": [],
   "source": [
    "testDataSet.to_csv('Test_DataSet_File.csv', index=False)"
   ]
  },
  {
   "cell_type": "markdown",
   "metadata": {},
   "source": [
    "TF-IDF Vectorizer"
   ]
  },
  {
   "cell_type": "code",
   "execution_count": 49,
   "metadata": {},
   "outputs": [],
   "source": [
    "from sklearn.feature_extraction.text import TfidfVectorizer\n",
    "vector = TfidfVectorizer(stop_words = 'english', max_df=0.7)"
   ]
  },
  {
   "cell_type": "code",
   "execution_count": 50,
   "metadata": {},
   "outputs": [],
   "source": [
    "tf_train = vector.fit_transform(X_train)\n",
    "tf_test = vector.transform(x_test)"
   ]
  },
  {
   "cell_type": "markdown",
   "metadata": {},
   "source": [
    "TF-IDF-Passive Aggressive Algorithm"
   ]
  },
  {
   "cell_type": "code",
   "execution_count": 51,
   "metadata": {},
   "outputs": [
    {
     "data": {
      "text/plain": [
       "PassiveAggressiveClassifier(C=1.0, average=False, class_weight=None,\n",
       "                            early_stopping=False, fit_intercept=True,\n",
       "                            loss='hinge', max_iter=50, n_iter_no_change=5,\n",
       "                            n_jobs=None, random_state=None, shuffle=True,\n",
       "                            tol=0.001, validation_fraction=0.1, verbose=0,\n",
       "                            warm_start=False)"
      ]
     },
     "execution_count": 51,
     "metadata": {},
     "output_type": "execute_result"
    }
   ],
   "source": [
    "from sklearn.linear_model import PassiveAggressiveClassifier\n",
    "pac = PassiveAggressiveClassifier(max_iter=50)\n",
    "pac.fit(tf_train, y_train)"
   ]
  },
  {
   "cell_type": "code",
   "execution_count": 52,
   "metadata": {},
   "outputs": [],
   "source": [
    "from sklearn.metrics import accuracy_score, confusion_matrix"
   ]
  },
  {
   "cell_type": "code",
   "execution_count": 53,
   "metadata": {},
   "outputs": [],
   "source": [
    "y_pred_PR = pac.predict(tf_test)\n",
    "score_PR_Tf = accuracy_score(y_test, y_pred_PR)"
   ]
  },
  {
   "cell_type": "code",
   "execution_count": 54,
   "metadata": {},
   "outputs": [
    {
     "name": "stdout",
     "output_type": "stream",
     "text": [
      "Accuracy Score PR using TF-IDF : 90.43%\n"
     ]
    }
   ],
   "source": [
    "print(f\"Accuracy Score PR using TF-IDF : {round(score_PR_Tf*100,2)}%\")"
   ]
  },
  {
   "cell_type": "code",
   "execution_count": 55,
   "metadata": {},
   "outputs": [
    {
     "data": {
      "text/plain": [
       "array([[5286,  681],\n",
       "       [ 591, 6740]], dtype=int64)"
      ]
     },
     "execution_count": 55,
     "metadata": {},
     "output_type": "execute_result"
    }
   ],
   "source": [
    "cfMatrix_PR_Tf = confusion_matrix(y_test, y_pred_PR)\n",
    "cfMatrix_PR_Tf"
   ]
  },
  {
   "cell_type": "code",
   "execution_count": 56,
   "metadata": {},
   "outputs": [
    {
     "data": {
      "text/plain": [
       "(5286, 681, 591, 6740)"
      ]
     },
     "execution_count": 56,
     "metadata": {},
     "output_type": "execute_result"
    }
   ],
   "source": [
    "tn, fp, fn, tp = cfMatrix_PR_Tf.ravel() \n",
    "tn, fp, fn, tp"
   ]
  },
  {
   "cell_type": "code",
   "execution_count": 57,
   "metadata": {},
   "outputs": [
    {
     "data": {
      "text/plain": [
       "Text(33.0, 0.5, 'True Label')"
      ]
     },
     "execution_count": 57,
     "metadata": {},
     "output_type": "execute_result"
    },
    {
     "data": {
      "image/png": "[encoded data removed]",
      "text/plain": [
       "<Figure size 432x288 with 2 Axes>"
      ]
     },
     "metadata": {
      "needs_background": "light"
     },
     "output_type": "display_data"
    }
   ],
   "source": [
    "import seaborn as sns\n",
    "from matplotlib import pyplot as plt\n",
    "sns.heatmap(cfMatrix_PR_Tf, annot=True)\n",
    "plt.xlabel('Predicted Label')\n",
    "plt.ylabel('True Label')\n",
    "#fake =0, Real =1  Yaxis = TRUE VAL  Xaxis = PRED VAL  Order = TN, FP, FN, TP"
   ]
  },
  {
   "cell_type": "markdown",
   "metadata": {},
   "source": [
    "TF-IDF-Linear Regression"
   ]
  },
  {
   "cell_type": "code",
   "execution_count": 58,
   "metadata": {},
   "outputs": [
    {
     "name": "stderr",
     "output_type": "stream",
     "text": [
      "C:\\Users\\BAASHITH\\Anaconda3\\lib\\site-packages\\sklearn\\linear_model\\logistic.py:432: FutureWarning: Default solver will be changed to 'lbfgs' in 0.22. Specify a solver to silence this warning.\n",
      "  FutureWarning)\n"
     ]
    },
    {
     "data": {
      "text/plain": [
       "LogisticRegression(C=1.0, class_weight=None, dual=False, fit_intercept=True,\n",
       "                   intercept_scaling=1, l1_ratio=None, max_iter=100,\n",
       "                   multi_class='warn', n_jobs=None, penalty='l2',\n",
       "                   random_state=None, solver='warn', tol=0.0001, verbose=0,\n",
       "                   warm_start=False)"
      ]
     },
     "execution_count": 58,
     "metadata": {},
     "output_type": "execute_result"
    }
   ],
   "source": [
    "from sklearn.linear_model import LogisticRegression\n",
    "LR_model = LogisticRegression()\n",
    "LR_model.fit(tf_train, y_train)"
   ]
  },
  {
   "cell_type": "code",
   "execution_count": 59,
   "metadata": {},
   "outputs": [],
   "source": [
    "y_pred_LR = LR_model.predict(tf_test)\n",
    "score_LR_Tf = accuracy_score(y_test, y_pred_LR)"
   ]
  },
  {
   "cell_type": "code",
   "execution_count": 60,
   "metadata": {},
   "outputs": [
    {
     "name": "stdout",
     "output_type": "stream",
     "text": [
      "Accuracy Score LR : 91.71%\n"
     ]
    }
   ],
   "source": [
    "print(f\"Accuracy Score LR : {round(score_LR_Tf*100,2)}%\")"
   ]
  },
  {
   "cell_type": "code",
   "execution_count": 61,
   "metadata": {},
   "outputs": [
    {
     "data": {
      "text/plain": [
       "array([[5396,  571],\n",
       "       [ 532, 6799]], dtype=int64)"
      ]
     },
     "execution_count": 61,
     "metadata": {},
     "output_type": "execute_result"
    }
   ],
   "source": [
    "cfMatrix_LR_Tf = confusion_matrix(y_test, y_pred_LR)\n",
    "cfMatrix_LR_Tf"
   ]
  },
  {
   "cell_type": "code",
   "execution_count": 62,
   "metadata": {},
   "outputs": [
    {
     "data": {
      "text/plain": [
       "(5396, 571, 532, 6799)"
      ]
     },
     "execution_count": 62,
     "metadata": {},
     "output_type": "execute_result"
    }
   ],
   "source": [
    "tn, fp, fn, tp = cfMatrix_LR_Tf.ravel() \n",
    "tn, fp, fn, tp"
   ]
  },
  {
   "cell_type": "code",
   "execution_count": 63,
   "metadata": {},
   "outputs": [
    {
     "data": {
      "text/plain": [
       "Text(33.0, 0.5, 'True Label')"
      ]
     },
     "execution_count": 63,
     "metadata": {},
     "output_type": "execute_result"
    },
    {
     "data": {
      "image/png": "[encoded data removed]",
      "text/plain": [
       "<Figure size 432x288 with 2 Axes>"
      ]
     },
     "metadata": {
      "needs_background": "light"
     },
     "output_type": "display_data"
    }
   ],
   "source": [
    "import seaborn as sns\n",
    "sns.heatmap(cfMatrix_LR_Tf, annot=True)\n",
    "plt.xlabel('Predicted Label')\n",
    "plt.ylabel('True Label')\n",
    "#fake =0, Real =1  Yaxis = TRUE VAL  Xaxis = PRED VAL  Order = TN, FP, FN, TP"
   ]
  },
  {
   "cell_type": "markdown",
   "metadata": {},
   "source": [
    "TF-IDF-Random Forest"
   ]
  },
  {
   "cell_type": "code",
   "execution_count": 64,
   "metadata": {},
   "outputs": [
    {
     "data": {
      "text/plain": [
       "RandomForestClassifier(bootstrap=True, class_weight=None, criterion='gini',\n",
       "                       max_depth=None, max_features='auto', max_leaf_nodes=None,\n",
       "                       min_impurity_decrease=0.0, min_impurity_split=None,\n",
       "                       min_samples_leaf=1, min_samples_split=2,\n",
       "                       min_weight_fraction_leaf=0.0, n_estimators=150,\n",
       "                       n_jobs=-1, oob_score=False, random_state=None, verbose=0,\n",
       "                       warm_start=False)"
      ]
     },
     "execution_count": 64,
     "metadata": {},
     "output_type": "execute_result"
    }
   ],
   "source": [
    "from sklearn.ensemble import RandomForestClassifier\n",
    "rf_model = RandomForestClassifier(n_estimators=150, max_depth=None, n_jobs=-1)\n",
    "rf_model.fit(tf_train, y_train)"
   ]
  },
  {
   "cell_type": "code",
   "execution_count": 65,
   "metadata": {},
   "outputs": [],
   "source": [
    "y_pred_RF = rf_model.predict(tf_test)\n",
    "score_RF_Tf = accuracy_score(y_test, y_pred_RF)"
   ]
  },
  {
   "cell_type": "code",
   "execution_count": 66,
   "metadata": {},
   "outputs": [
    {
     "name": "stdout",
     "output_type": "stream",
     "text": [
      "Accuracy Score RF using TF-IDF : 88.7%\n"
     ]
    }
   ],
   "source": [
    "print(f\"Accuracy Score RF using TF-IDF : {round(score_RF_Tf*100,2)}%\")"
   ]
  },
  {
   "cell_type": "code",
   "execution_count": 67,
   "metadata": {},
   "outputs": [
    {
     "data": {
      "text/plain": [
       "array([[5081,  886],\n",
       "       [ 617, 6714]], dtype=int64)"
      ]
     },
     "execution_count": 67,
     "metadata": {},
     "output_type": "execute_result"
    }
   ],
   "source": [
    "cfMatrix_RF_Tf = confusion_matrix(y_test, y_pred_RF)\n",
    "cfMatrix_RF_Tf"
   ]
  },
  {
   "cell_type": "code",
   "execution_count": 68,
   "metadata": {},
   "outputs": [
    {
     "data": {
      "text/plain": [
       "(5081, 886, 617, 6714)"
      ]
     },
     "execution_count": 68,
     "metadata": {},
     "output_type": "execute_result"
    }
   ],
   "source": [
    "tn, fp, fn, tp = cfMatrix_RF_Tf.ravel() \n",
    "tn, fp, fn, tp"
   ]
  },
  {
   "cell_type": "code",
   "execution_count": 69,
   "metadata": {},
   "outputs": [
    {
     "data": {
      "text/plain": [
       "Text(33.0, 0.5, 'True Label')"
      ]
     },
     "execution_count": 69,
     "metadata": {},
     "output_type": "execute_result"
    },
    {
     "data": {
      "image/png": "[encoded data removed]",
      "text/plain": [
       "<Figure size 432x288 with 2 Axes>"
      ]
     },
     "metadata": {
      "needs_background": "light"
     },
     "output_type": "display_data"
    }
   ],
   "source": [
    "import seaborn as sns\n",
    "sns.heatmap(cfMatrix_RF_Tf, annot=True)\n",
    "plt.xlabel('Predicted Label')\n",
    "plt.ylabel('True Label')\n",
    "#fake =0, Real =1  Yaxis = TRUE VAL  Xaxis = PRED VAL  Order = TN, FP, FN, TP"
   ]
  },
  {
   "cell_type": "markdown",
   "metadata": {},
   "source": [
    "TF-IDF-Decision Tree"
   ]
  },
  {
   "cell_type": "code",
   "execution_count": 70,
   "metadata": {},
   "outputs": [
    {
     "data": {
      "text/plain": [
       "DecisionTreeClassifier(class_weight=None, criterion='entropy', max_depth=None,\n",
       "                       max_features=None, max_leaf_nodes=None,\n",
       "                       min_impurity_decrease=0.0, min_impurity_split=None,\n",
       "                       min_samples_leaf=1, min_samples_split=2,\n",
       "                       min_weight_fraction_leaf=0.0, presort=False,\n",
       "                       random_state=0, splitter='best')"
      ]
     },
     "execution_count": 70,
     "metadata": {},
     "output_type": "execute_result"
    }
   ],
   "source": [
    "from sklearn.tree import DecisionTreeClassifier\n",
    "DT_model = DecisionTreeClassifier(criterion ='entropy', random_state=0)\n",
    "DT_model.fit(tf_train, y_train)"
   ]
  },
  {
   "cell_type": "code",
   "execution_count": 71,
   "metadata": {},
   "outputs": [],
   "source": [
    "y_pred_DT = DT_model.predict(tf_test)\n",
    "score_DT_Tf = accuracy_score(y_test, y_pred_DT)"
   ]
  },
  {
   "cell_type": "code",
   "execution_count": 72,
   "metadata": {},
   "outputs": [
    {
     "name": "stdout",
     "output_type": "stream",
     "text": [
      "Accuracy Score DT using TF-IDF : 86.38%\n"
     ]
    }
   ],
   "source": [
    "print(f\"Accuracy Score DT using TF-IDF : {round(score_DT_Tf*100,2)}%\")"
   ]
  },
  {
   "cell_type": "code",
   "execution_count": 73,
   "metadata": {},
   "outputs": [
    {
     "data": {
      "text/plain": [
       "array([[5104,  863],\n",
       "       [ 948, 6383]], dtype=int64)"
      ]
     },
     "execution_count": 73,
     "metadata": {},
     "output_type": "execute_result"
    }
   ],
   "source": [
    "cfMatrix_DT_Tf = confusion_matrix(y_test, y_pred_DT)\n",
    "cfMatrix_DT_Tf"
   ]
  },
  {
   "cell_type": "code",
   "execution_count": 74,
   "metadata": {},
   "outputs": [
    {
     "data": {
      "text/plain": [
       "(5104, 863, 948, 6383)"
      ]
     },
     "execution_count": 74,
     "metadata": {},
     "output_type": "execute_result"
    }
   ],
   "source": [
    "tn, fp, fn, tp = cfMatrix_DT_Tf.ravel() \n",
    "tn, fp, fn, tp"
   ]
  },
  {
   "cell_type": "code",
   "execution_count": 75,
   "metadata": {},
   "outputs": [
    {
     "data": {
      "text/plain": [
       "Text(33.0, 0.5, 'True Label')"
      ]
     },
     "execution_count": 75,
     "metadata": {},
     "output_type": "execute_result"
    },
    {
     "data": {
      "image/png": "[encoded data removed]",
      "text/plain": [
       "<Figure size 432x288 with 2 Axes>"
      ]
     },
     "metadata": {
      "needs_background": "light"
     },
     "output_type": "display_data"
    }
   ],
   "source": [
    "import seaborn as sns\n",
    "sns.heatmap(cfMatrix_DT_Tf, annot=True)\n",
    "plt.xlabel('Predicted Label')\n",
    "plt.ylabel('True Label')\n",
    "#fake =0, Real =1  Yaxis = TRUE VAL  Xaxis = PRED VAL  Order = TN, FP, FN, TP"
   ]
  },
  {
   "cell_type": "markdown",
   "metadata": {},
   "source": [
    "TF-IDF-Linear SVC"
   ]
  },
  {
   "cell_type": "code",
   "execution_count": 76,
   "metadata": {},
   "outputs": [
    {
     "data": {
      "text/plain": [
       "LinearSVC(C=1.0, class_weight=None, dual=True, fit_intercept=True,\n",
       "          intercept_scaling=1, loss='squared_hinge', max_iter=1000,\n",
       "          multi_class='ovr', penalty='l2', random_state=None, tol=0.0001,\n",
       "          verbose=0)"
      ]
     },
     "execution_count": 76,
     "metadata": {},
     "output_type": "execute_result"
    }
   ],
   "source": [
    "from sklearn.svm import LinearSVC\n",
    "svm_model = LinearSVC()\n",
    "svm_model.fit(tf_train,y_train)"
   ]
  },
  {
   "cell_type": "code",
   "execution_count": 77,
   "metadata": {},
   "outputs": [],
   "source": [
    "y_pred_SVM = svm_model.predict(tf_test)\n",
    "score_SVM_Tf = accuracy_score(y_test, y_pred_SVM)"
   ]
  },
  {
   "cell_type": "code",
   "execution_count": 78,
   "metadata": {},
   "outputs": [
    {
     "name": "stdout",
     "output_type": "stream",
     "text": [
      "Accuracy Score SVM using TF-IDF : 92.22%\n"
     ]
    }
   ],
   "source": [
    "print(f\"Accuracy Score SVM using TF-IDF : {round(score_SVM_Tf*100,2)}%\")"
   ]
  },
  {
   "cell_type": "code",
   "execution_count": 79,
   "metadata": {},
   "outputs": [
    {
     "data": {
      "text/plain": [
       "array([[5415,  552],\n",
       "       [ 483, 6848]], dtype=int64)"
      ]
     },
     "execution_count": 79,
     "metadata": {},
     "output_type": "execute_result"
    }
   ],
   "source": [
    "cfMatrix_SVM_Tf = confusion_matrix(y_test, y_pred_SVM)\n",
    "cfMatrix_SVM_Tf"
   ]
  },
  {
   "cell_type": "code",
   "execution_count": 80,
   "metadata": {},
   "outputs": [
    {
     "data": {
      "text/plain": [
       "(5415, 552, 483, 6848)"
      ]
     },
     "execution_count": 80,
     "metadata": {},
     "output_type": "execute_result"
    }
   ],
   "source": [
    "tn, fp, fn, tp = cfMatrix_SVM_Tf.ravel() \n",
    "tn, fp, fn, tp"
   ]
  },
  {
   "cell_type": "code",
   "execution_count": 81,
   "metadata": {},
   "outputs": [
    {
     "data": {
      "text/plain": [
       "Text(33.0, 0.5, 'True Label')"
      ]
     },
     "execution_count": 81,
     "metadata": {},
     "output_type": "execute_result"
    },
    {
     "data": {
      "image/png": "[encoded data removed]",
      "text/plain": [
       "<Figure size 432x288 with 2 Axes>"
      ]
     },
     "metadata": {
      "needs_background": "light"
     },
     "output_type": "display_data"
    }
   ],
   "source": [
    "import seaborn as sns\n",
    "sns.heatmap(cfMatrix_SVM_Tf, annot=True)\n",
    "plt.xlabel('Predicted Label')\n",
    "plt.ylabel('True Label')\n",
    "#fake =0, Real =1  Yaxis = TRUE VAL  Xaxis = PRED VAL  Order = TN, FP, FN, TP"
   ]
  },
  {
   "cell_type": "code",
   "execution_count": 82,
   "metadata": {},
   "outputs": [
    {
     "name": "stdout",
     "output_type": "stream",
     "text": [
      "Accuracy Score PR : 90.43%\n",
      "Accuracy Score LR : 91.71%\n",
      "Accuracy Score RF : 88.7%\n",
      "Accuracy Score DT : 86.38%\n",
      "Accuracy Score SVM : 92.22%\n"
     ]
    }
   ],
   "source": [
    "print(f\"Accuracy Score PR : {round(score_PR_Tf*100,2)}%\")\n",
    "print(f\"Accuracy Score LR : {round(score_LR_Tf*100,2)}%\")\n",
    "print(f\"Accuracy Score RF : {round(score_RF_Tf*100,2)}%\")\n",
    "print(f\"Accuracy Score DT : {round(score_DT_Tf*100,2)}%\")\n",
    "print(f\"Accuracy Score SVM : {round(score_SVM_Tf*100,2)}%\")"
   ]
  },
  {
   "cell_type": "markdown",
   "metadata": {},
   "source": [
    "Count Vectorizer"
   ]
  },
  {
   "cell_type": "code",
   "execution_count": 83,
   "metadata": {},
   "outputs": [],
   "source": [
    "from sklearn.feature_extraction.text import CountVectorizer\n",
    "C_Vector = CountVectorizer()"
   ]
  },
  {
   "cell_type": "code",
   "execution_count": 84,
   "metadata": {},
   "outputs": [],
   "source": [
    "count_train = C_Vector.fit_transform(X_train)\n",
    "count_test = C_Vector.transform(x_test)"
   ]
  },
  {
   "cell_type": "markdown",
   "metadata": {},
   "source": [
    "Count-Passive Aggressive"
   ]
  },
  {
   "cell_type": "code",
   "execution_count": 85,
   "metadata": {},
   "outputs": [
    {
     "name": "stderr",
     "output_type": "stream",
     "text": [
      "C:\\Users\\BAASHITH\\Anaconda3\\lib\\site-packages\\sklearn\\linear_model\\stochastic_gradient.py:561: ConvergenceWarning: Maximum number of iteration reached before convergence. Consider increasing max_iter to improve the fit.\n",
      "  ConvergenceWarning)\n"
     ]
    },
    {
     "data": {
      "text/plain": [
       "PassiveAggressiveClassifier(C=1.0, average=False, class_weight=None,\n",
       "                            early_stopping=False, fit_intercept=True,\n",
       "                            loss='hinge', max_iter=50, n_iter_no_change=5,\n",
       "                            n_jobs=None, random_state=None, shuffle=True,\n",
       "                            tol=0.001, validation_fraction=0.1, verbose=0,\n",
       "                            warm_start=False)"
      ]
     },
     "execution_count": 85,
     "metadata": {},
     "output_type": "execute_result"
    }
   ],
   "source": [
    "pac_count = PassiveAggressiveClassifier(max_iter=50)\n",
    "pac_count.fit(count_train, y_train)"
   ]
  },
  {
   "cell_type": "code",
   "execution_count": 86,
   "metadata": {},
   "outputs": [],
   "source": [
    "y_pred_PR_count = pac_count.predict(count_test)\n",
    "score_PR_count = accuracy_score(y_test, y_pred_PR_count)"
   ]
  },
  {
   "cell_type": "code",
   "execution_count": 87,
   "metadata": {},
   "outputs": [
    {
     "name": "stdout",
     "output_type": "stream",
     "text": [
      "Accuracy Score PR_count : 89.12%\n"
     ]
    }
   ],
   "source": [
    "print(f\"Accuracy Score PR_count : {round(score_PR_count*100,2)}%\")"
   ]
  },
  {
   "cell_type": "code",
   "execution_count": 88,
   "metadata": {},
   "outputs": [
    {
     "data": {
      "text/plain": [
       "array([[5518,  449],\n",
       "       [ 998, 6333]], dtype=int64)"
      ]
     },
     "execution_count": 88,
     "metadata": {},
     "output_type": "execute_result"
    }
   ],
   "source": [
    "cfMatrix_PR_count = confusion_matrix(y_test, y_pred_PR_count)\n",
    "cfMatrix_PR_count"
   ]
  },
  {
   "cell_type": "code",
   "execution_count": 89,
   "metadata": {},
   "outputs": [
    {
     "data": {
      "text/plain": [
       "(5518, 449, 998, 6333)"
      ]
     },
     "execution_count": 89,
     "metadata": {},
     "output_type": "execute_result"
    }
   ],
   "source": [
    "tn, fp, fn, tp = cfMatrix_PR_count.ravel() \n",
    "tn, fp, fn, tp"
   ]
  },
  {
   "cell_type": "code",
   "execution_count": 90,
   "metadata": {},
   "outputs": [
    {
     "data": {
      "text/plain": [
       "Text(33.0, 0.5, 'True Label')"
      ]
     },
     "execution_count": 90,
     "metadata": {},
     "output_type": "execute_result"
    },
    {
     "data": {
      "image/png": "[encoded data removed]",
      "text/plain": [
       "<Figure size 432x288 with 2 Axes>"
      ]
     },
     "metadata": {
      "needs_background": "light"
     },
     "output_type": "display_data"
    }
   ],
   "source": [
    "import seaborn as sns\n",
    "sns.heatmap(cfMatrix_PR_count, annot=True)\n",
    "plt.xlabel('Predicted Label')\n",
    "plt.ylabel('True Label')\n",
    "#fake =0, Real =1  Yaxis = TRUE VAL  Xaxis = PRED VAL  Order = TN, FP, FN, TP"
   ]
  },
  {
   "cell_type": "markdown",
   "metadata": {},
   "source": [
    "Count-Linear Regression"
   ]
  },
  {
   "cell_type": "code",
   "execution_count": 91,
   "metadata": {},
   "outputs": [
    {
     "name": "stderr",
     "output_type": "stream",
     "text": [
      "C:\\Users\\BAASHITH\\Anaconda3\\lib\\site-packages\\sklearn\\linear_model\\logistic.py:432: FutureWarning: Default solver will be changed to 'lbfgs' in 0.22. Specify a solver to silence this warning.\n",
      "  FutureWarning)\n",
      "C:\\Users\\BAASHITH\\Anaconda3\\lib\\site-packages\\sklearn\\svm\\base.py:929: ConvergenceWarning: Liblinear failed to converge, increase the number of iterations.\n",
      "  \"the number of iterations.\", ConvergenceWarning)\n"
     ]
    },
    {
     "data": {
      "text/plain": [
       "LogisticRegression(C=1.0, class_weight=None, dual=False, fit_intercept=True,\n",
       "                   intercept_scaling=1, l1_ratio=None, max_iter=100,\n",
       "                   multi_class='warn', n_jobs=None, penalty='l2',\n",
       "                   random_state=None, solver='warn', tol=0.0001, verbose=0,\n",
       "                   warm_start=False)"
      ]
     },
     "execution_count": 91,
     "metadata": {},
     "output_type": "execute_result"
    }
   ],
   "source": [
    "from sklearn.linear_model import LogisticRegression\n",
    "LR_model_count = LogisticRegression()\n",
    "LR_model_count.fit(count_train, y_train)"
   ]
  },
  {
   "cell_type": "code",
   "execution_count": 92,
   "metadata": {},
   "outputs": [],
   "source": [
    "y_pred_LR_count = LR_model_count.predict(count_test)\n",
    "score_LR_count = accuracy_score(y_test, y_pred_LR_count)"
   ]
  },
  {
   "cell_type": "code",
   "execution_count": 93,
   "metadata": {},
   "outputs": [
    {
     "name": "stdout",
     "output_type": "stream",
     "text": [
      "Accuracy Score LR_count : 92.03%\n"
     ]
    }
   ],
   "source": [
    "print(f\"Accuracy Score LR_count : {round(score_LR_count*100,2)}%\")"
   ]
  },
  {
   "cell_type": "code",
   "execution_count": 94,
   "metadata": {},
   "outputs": [
    {
     "data": {
      "text/plain": [
       "array([[5460,  507],\n",
       "       [ 553, 6778]], dtype=int64)"
      ]
     },
     "execution_count": 94,
     "metadata": {},
     "output_type": "execute_result"
    }
   ],
   "source": [
    "cfMatrix_LR_count = confusion_matrix(y_test, y_pred_LR_count)\n",
    "cfMatrix_LR_count"
   ]
  },
  {
   "cell_type": "code",
   "execution_count": 95,
   "metadata": {},
   "outputs": [
    {
     "data": {
      "text/plain": [
       "(5460, 507, 553, 6778)"
      ]
     },
     "execution_count": 95,
     "metadata": {},
     "output_type": "execute_result"
    }
   ],
   "source": [
    "tn, fp, fn, tp = cfMatrix_LR_count.ravel() \n",
    "tn, fp, fn, tp"
   ]
  },
  {
   "cell_type": "code",
   "execution_count": 96,
   "metadata": {},
   "outputs": [
    {
     "data": {
      "text/plain": [
       "Text(33.0, 0.5, 'True Label')"
      ]
     },
     "execution_count": 96,
     "metadata": {},
     "output_type": "execute_result"
    },
    {
     "data": {
      "image/png": "[encoded data removed]",
      "text/plain": [
       "<Figure size 432x288 with 2 Axes>"
      ]
     },
     "metadata": {
      "needs_background": "light"
     },
     "output_type": "display_data"
    }
   ],
   "source": [
    "import seaborn as sns\n",
    "sns.heatmap(cfMatrix_LR_count, annot=True)\n",
    "plt.xlabel('Predicted Label')\n",
    "plt.ylabel('True Label')\n",
    "#fake =0, Real =1  Yaxis = TRUE VAL  Xaxis = PRED VAL  Order = TN, FP, FN, TP"
   ]
  },
  {
   "cell_type": "markdown",
   "metadata": {},
   "source": [
    "Count-Random Forest"
   ]
  },
  {
   "cell_type": "code",
   "execution_count": 97,
   "metadata": {},
   "outputs": [
    {
     "data": {
      "text/plain": [
       "RandomForestClassifier(bootstrap=True, class_weight=None, criterion='gini',\n",
       "                       max_depth=None, max_features='auto', max_leaf_nodes=None,\n",
       "                       min_impurity_decrease=0.0, min_impurity_split=None,\n",
       "                       min_samples_leaf=1, min_samples_split=2,\n",
       "                       min_weight_fraction_leaf=0.0, n_estimators=150,\n",
       "                       n_jobs=-1, oob_score=False, random_state=None, verbose=0,\n",
       "                       warm_start=False)"
      ]
     },
     "execution_count": 97,
     "metadata": {},
     "output_type": "execute_result"
    }
   ],
   "source": [
    "from sklearn.ensemble import RandomForestClassifier\n",
    "rf_model_count = RandomForestClassifier(n_estimators=150, max_depth=None, n_jobs=-1)\n",
    "rf_model_count.fit(count_train, y_train)"
   ]
  },
  {
   "cell_type": "code",
   "execution_count": 98,
   "metadata": {},
   "outputs": [],
   "source": [
    "y_pred_RF_count = rf_model_count.predict(count_test)\n",
    "score_RF_count = accuracy_score(y_test, y_pred_RF_count)"
   ]
  },
  {
   "cell_type": "code",
   "execution_count": 99,
   "metadata": {},
   "outputs": [
    {
     "name": "stdout",
     "output_type": "stream",
     "text": [
      "Accuracy Score RF_count : 89.06%\n"
     ]
    }
   ],
   "source": [
    "print(f\"Accuracy Score RF_count : {round(score_RF_count*100,2)}%\")"
   ]
  },
  {
   "cell_type": "code",
   "execution_count": 100,
   "metadata": {},
   "outputs": [
    {
     "data": {
      "text/plain": [
       "array([[5060,  907],\n",
       "       [ 548, 6783]], dtype=int64)"
      ]
     },
     "execution_count": 100,
     "metadata": {},
     "output_type": "execute_result"
    }
   ],
   "source": [
    "cfMatrix_RF_count = confusion_matrix(y_test, y_pred_RF_count)\n",
    "cfMatrix_RF_count"
   ]
  },
  {
   "cell_type": "code",
   "execution_count": 101,
   "metadata": {},
   "outputs": [
    {
     "data": {
      "text/plain": [
       "(5060, 907, 548, 6783)"
      ]
     },
     "execution_count": 101,
     "metadata": {},
     "output_type": "execute_result"
    }
   ],
   "source": [
    "tn, fp, fn, tp = cfMatrix_RF_count.ravel() \n",
    "tn, fp, fn, tp"
   ]
  },
  {
   "cell_type": "code",
   "execution_count": 102,
   "metadata": {},
   "outputs": [
    {
     "data": {
      "text/plain": [
       "Text(33.0, 0.5, 'True Label')"
      ]
     },
     "execution_count": 102,
     "metadata": {},
     "output_type": "execute_result"
    },
    {
     "data": {
      "image/png": "[encoded data removed]",
      "text/plain": [
       "<Figure size 432x288 with 2 Axes>"
      ]
     },
     "metadata": {
      "needs_background": "light"
     },
     "output_type": "display_data"
    }
   ],
   "source": [
    "import seaborn as sns\n",
    "sns.heatmap(cfMatrix_RF_count, annot=True)\n",
    "plt.xlabel('Predicted Label')\n",
    "plt.ylabel('True Label')\n",
    "#fake =0, Real =1  Yaxis = TRUE VAL  Xaxis = PRED VAL  Order = TN, FP, FN, TP"
   ]
  },
  {
   "cell_type": "markdown",
   "metadata": {},
   "source": [
    "Count-Decision Tree"
   ]
  },
  {
   "cell_type": "code",
   "execution_count": 103,
   "metadata": {},
   "outputs": [
    {
     "data": {
      "text/plain": [
       "DecisionTreeClassifier(class_weight=None, criterion='entropy', max_depth=None,\n",
       "                       max_features=None, max_leaf_nodes=None,\n",
       "                       min_impurity_decrease=0.0, min_impurity_split=None,\n",
       "                       min_samples_leaf=1, min_samples_split=2,\n",
       "                       min_weight_fraction_leaf=0.0, presort=False,\n",
       "                       random_state=0, splitter='best')"
      ]
     },
     "execution_count": 103,
     "metadata": {},
     "output_type": "execute_result"
    }
   ],
   "source": [
    "from sklearn.tree import DecisionTreeClassifier\n",
    "DT_model_count = DecisionTreeClassifier(criterion ='entropy', random_state=0)\n",
    "DT_model_count.fit(count_train, y_train)"
   ]
  },
  {
   "cell_type": "code",
   "execution_count": 104,
   "metadata": {},
   "outputs": [],
   "source": [
    "y_pred_DT_count = DT_model_count.predict(count_test)\n",
    "score_DT_count = accuracy_score(y_test, y_pred_DT_count)"
   ]
  },
  {
   "cell_type": "code",
   "execution_count": 105,
   "metadata": {},
   "outputs": [
    {
     "name": "stdout",
     "output_type": "stream",
     "text": [
      "Accuracy Score DT_count : 88.69%\n"
     ]
    }
   ],
   "source": [
    "print(f\"Accuracy Score DT_count : {round(score_DT_count*100,2)}%\")"
   ]
  },
  {
   "cell_type": "code",
   "execution_count": 106,
   "metadata": {},
   "outputs": [
    {
     "data": {
      "text/plain": [
       "array([[5233,  734],\n",
       "       [ 770, 6561]], dtype=int64)"
      ]
     },
     "execution_count": 106,
     "metadata": {},
     "output_type": "execute_result"
    }
   ],
   "source": [
    "cfMatrix_DT_count = confusion_matrix(y_test, y_pred_DT_count)\n",
    "cfMatrix_DT_count"
   ]
  },
  {
   "cell_type": "code",
   "execution_count": 107,
   "metadata": {},
   "outputs": [
    {
     "data": {
      "text/plain": [
       "(5233, 734, 770, 6561)"
      ]
     },
     "execution_count": 107,
     "metadata": {},
     "output_type": "execute_result"
    }
   ],
   "source": [
    "tn, fp, fn, tp = cfMatrix_DT_count.ravel() \n",
    "tn, fp, fn, tp"
   ]
  },
  {
   "cell_type": "code",
   "execution_count": 108,
   "metadata": {},
   "outputs": [
    {
     "data": {
      "text/plain": [
       "Text(33.0, 0.5, 'True Label')"
      ]
     },
     "execution_count": 108,
     "metadata": {},
     "output_type": "execute_result"
    },
    {
     "data": {
      "image/png": "[encoded data removed]",
      "text/plain": [
       "<Figure size 432x288 with 2 Axes>"
      ]
     },
     "metadata": {
      "needs_background": "light"
     },
     "output_type": "display_data"
    }
   ],
   "source": [
    "import seaborn as sns\n",
    "sns.heatmap(cfMatrix_DT_count, annot=True)\n",
    "plt.xlabel('Predicted Label')\n",
    "plt.ylabel('True Label')\n",
    "#fake =0, Real =1  Yaxis = TRUE VAL  Xaxis = PRED VAL  Order = TN, FP, FN, TP"
   ]
  },
  {
   "cell_type": "markdown",
   "metadata": {},
   "source": [
    "Count-Linear SVC"
   ]
  },
  {
   "cell_type": "code",
   "execution_count": 109,
   "metadata": {},
   "outputs": [
    {
     "name": "stderr",
     "output_type": "stream",
     "text": [
      "C:\\Users\\BAASHITH\\Anaconda3\\lib\\site-packages\\sklearn\\svm\\base.py:929: ConvergenceWarning: Liblinear failed to converge, increase the number of iterations.\n",
      "  \"the number of iterations.\", ConvergenceWarning)\n"
     ]
    },
    {
     "data": {
      "text/plain": [
       "LinearSVC(C=1.0, class_weight=None, dual=True, fit_intercept=True,\n",
       "          intercept_scaling=1, loss='squared_hinge', max_iter=1000,\n",
       "          multi_class='ovr', penalty='l2', random_state=None, tol=0.0001,\n",
       "          verbose=0)"
      ]
     },
     "execution_count": 109,
     "metadata": {},
     "output_type": "execute_result"
    }
   ],
   "source": [
    "from sklearn.svm import LinearSVC\n",
    "svm_model_count = LinearSVC()\n",
    "svm_model_count.fit(count_train,y_train)"
   ]
  },
  {
   "cell_type": "code",
   "execution_count": 110,
   "metadata": {},
   "outputs": [],
   "source": [
    "y_pred_SVM_count = svm_model_count.predict(count_test)\n",
    "score_SVM_count = accuracy_score(y_test, y_pred_SVM_count)"
   ]
  },
  {
   "cell_type": "code",
   "execution_count": 111,
   "metadata": {},
   "outputs": [
    {
     "name": "stdout",
     "output_type": "stream",
     "text": [
      "Accuracy Score SVM_count : 90.01%\n"
     ]
    }
   ],
   "source": [
    "print(f\"Accuracy Score SVM_count : {round(score_SVM_count*100,2)}%\")"
   ]
  },
  {
   "cell_type": "code",
   "execution_count": 112,
   "metadata": {},
   "outputs": [
    {
     "data": {
      "text/plain": [
       "array([[5282,  685],\n",
       "       [ 644, 6687]], dtype=int64)"
      ]
     },
     "execution_count": 112,
     "metadata": {},
     "output_type": "execute_result"
    }
   ],
   "source": [
    "cfMatrix_SVM_count = confusion_matrix(y_test, y_pred_SVM_count)\n",
    "cfMatrix_SVM_count"
   ]
  },
  {
   "cell_type": "code",
   "execution_count": 113,
   "metadata": {},
   "outputs": [
    {
     "data": {
      "text/plain": [
       "(5282, 685, 644, 6687)"
      ]
     },
     "execution_count": 113,
     "metadata": {},
     "output_type": "execute_result"
    }
   ],
   "source": [
    "tn, fp, fn, tp = cfMatrix_SVM_count.ravel() \n",
    "tn, fp, fn, tp"
   ]
  },
  {
   "cell_type": "code",
   "execution_count": 114,
   "metadata": {},
   "outputs": [
    {
     "data": {
      "text/plain": [
       "Text(33.0, 0.5, 'True Label')"
      ]
     },
     "execution_count": 114,
     "metadata": {},
     "output_type": "execute_result"
    },
    {
     "data": {
      "image/png": "[encoded data removed]",
      "text/plain": [
       "<Figure size 432x288 with 2 Axes>"
      ]
     },
     "metadata": {
      "needs_background": "light"
     },
     "output_type": "display_data"
    }
   ],
   "source": [
    "import seaborn as sns\n",
    "sns.heatmap(cfMatrix_SVM_count, annot=True)\n",
    "plt.xlabel('Predicted Label')\n",
    "plt.ylabel('True Label')\n",
    "#fake =0, Real =1  Yaxis = TRUE VAL  Xaxis = PRED VAL  Order = TN, FP, FN, TP"
   ]
  },
  {
   "cell_type": "code",
   "execution_count": 115,
   "metadata": {},
   "outputs": [
    {
     "name": "stdout",
     "output_type": "stream",
     "text": [
      "Accuracy Score PR_count : 89.12%\n",
      "Accuracy Score LR_count : 92.03%\n",
      "Accuracy Score RF_count : 89.06%\n",
      "Accuracy Score DT_count : 88.69%\n",
      "Accuracy Score SVM_count : 90.01%\n"
     ]
    }
   ],
   "source": [
    "print(f\"Accuracy Score PR_count : {round(score_PR_count*100,2)}%\")\n",
    "print(f\"Accuracy Score LR_count : {round(score_LR_count*100,2)}%\")\n",
    "print(f\"Accuracy Score RF_count : {round(score_RF_count*100,2)}%\")\n",
    "print(f\"Accuracy Score DT_count : {round(score_DT_count*100,2)}%\")\n",
    "print(f\"Accuracy Score SVM_count : {round(score_SVM_count*100,2)}%\")"
   ]
  },
  {
   "cell_type": "code",
   "execution_count": 116,
   "metadata": {},
   "outputs": [
    {
     "name": "stdout",
     "output_type": "stream",
     "text": [
      "Accuracy Score PR_TF : 90.43%\n",
      "Accuracy Score LR_TF : 91.71%\n",
      "Accuracy Score RF_TF : 88.7%\n",
      "Accuracy Score DT_TF : 86.38%\n",
      "Accuracy Score SV_TF : 92.22%\n"
     ]
    }
   ],
   "source": [
    "print(f\"Accuracy Score PR_TF : {round(score_PR_Tf*100,2)}%\")\n",
    "print(f\"Accuracy Score LR_TF : {round(score_LR_Tf*100,2)}%\")\n",
    "print(f\"Accuracy Score RF_TF : {round(score_RF_Tf*100,2)}%\")\n",
    "print(f\"Accuracy Score DT_TF : {round(score_DT_Tf*100,2)}%\")\n",
    "print(f\"Accuracy Score SV_TF : {round(score_SVM_Tf*100,2)}%\")"
   ]
  },
  {
   "cell_type": "markdown",
   "metadata": {},
   "source": [
    "Hash Vectorizer"
   ]
  },
  {
   "cell_type": "code",
   "execution_count": 117,
   "metadata": {},
   "outputs": [],
   "source": [
    "from sklearn.feature_extraction.text import HashingVectorizer\n",
    "hash_vect = HashingVectorizer(stop_words='english',n_features=5000)"
   ]
  },
  {
   "cell_type": "code",
   "execution_count": 118,
   "metadata": {},
   "outputs": [],
   "source": [
    "hash_train = hash_vect.fit_transform(X_train)\n",
    "hash_test = hash_vect.transform(x_test)"
   ]
  },
  {
   "cell_type": "markdown",
   "metadata": {},
   "source": [
    "Hash-Passive Aggressive"
   ]
  },
  {
   "cell_type": "code",
   "execution_count": 119,
   "metadata": {},
   "outputs": [
    {
     "data": {
      "text/plain": [
       "PassiveAggressiveClassifier(C=1.0, average=False, class_weight=None,\n",
       "                            early_stopping=False, fit_intercept=True,\n",
       "                            loss='hinge', max_iter=50, n_iter_no_change=5,\n",
       "                            n_jobs=None, random_state=None, shuffle=True,\n",
       "                            tol=0.001, validation_fraction=0.1, verbose=0,\n",
       "                            warm_start=False)"
      ]
     },
     "execution_count": 119,
     "metadata": {},
     "output_type": "execute_result"
    }
   ],
   "source": [
    "pac_hash = PassiveAggressiveClassifier(max_iter=50)\n",
    "pac_hash.fit(hash_train, y_train)"
   ]
  },
  {
   "cell_type": "code",
   "execution_count": 120,
   "metadata": {},
   "outputs": [],
   "source": [
    "y_pred_PR_hash = pac_hash.predict(hash_test)\n",
    "score_PR_hash = accuracy_score(y_test, y_pred_PR_hash)"
   ]
  },
  {
   "cell_type": "code",
   "execution_count": 121,
   "metadata": {},
   "outputs": [
    {
     "name": "stdout",
     "output_type": "stream",
     "text": [
      "Accuracy Score PR_hash : 89.56%\n"
     ]
    }
   ],
   "source": [
    "print(f\"Accuracy Score PR_hash : {round(score_PR_hash*100,2)}%\")"
   ]
  },
  {
   "cell_type": "code",
   "execution_count": 122,
   "metadata": {},
   "outputs": [
    {
     "data": {
      "text/plain": [
       "array([[5250,  717],\n",
       "       [ 671, 6660]], dtype=int64)"
      ]
     },
     "execution_count": 122,
     "metadata": {},
     "output_type": "execute_result"
    }
   ],
   "source": [
    "cfMatrix_PR_hash = confusion_matrix(y_test, y_pred_PR_hash)\n",
    "cfMatrix_PR_hash"
   ]
  },
  {
   "cell_type": "code",
   "execution_count": 123,
   "metadata": {},
   "outputs": [
    {
     "data": {
      "text/plain": [
       "(5250, 717, 671, 6660)"
      ]
     },
     "execution_count": 123,
     "metadata": {},
     "output_type": "execute_result"
    }
   ],
   "source": [
    "tn, fp, fn, tp = cfMatrix_PR_hash.ravel() \n",
    "tn, fp, fn, tp"
   ]
  },
  {
   "cell_type": "code",
   "execution_count": 124,
   "metadata": {},
   "outputs": [
    {
     "data": {
      "text/plain": [
       "Text(33.0, 0.5, 'True Label')"
      ]
     },
     "execution_count": 124,
     "metadata": {},
     "output_type": "execute_result"
    },
    {
     "data": {
      "image/png": "[encoded data removed]",
      "text/plain": [
       "<Figure size 432x288 with 2 Axes>"
      ]
     },
     "metadata": {
      "needs_background": "light"
     },
     "output_type": "display_data"
    }
   ],
   "source": [
    "import seaborn as sns\n",
    "sns.heatmap(cfMatrix_PR_hash, annot=True)\n",
    "plt.xlabel('Predicted Label')\n",
    "plt.ylabel('True Label')\n",
    "#fake =0, Real =1  Yaxis = TRUE VAL  Xaxis = PRED VAL  Order = TN, FP, FN, TP"
   ]
  },
  {
   "cell_type": "markdown",
   "metadata": {},
   "source": [
    "Hash-Linear Regression"
   ]
  },
  {
   "cell_type": "code",
   "execution_count": 125,
   "metadata": {},
   "outputs": [
    {
     "name": "stderr",
     "output_type": "stream",
     "text": [
      "C:\\Users\\BAASHITH\\Anaconda3\\lib\\site-packages\\sklearn\\linear_model\\logistic.py:432: FutureWarning: Default solver will be changed to 'lbfgs' in 0.22. Specify a solver to silence this warning.\n",
      "  FutureWarning)\n"
     ]
    },
    {
     "data": {
      "text/plain": [
       "LogisticRegression(C=1.0, class_weight=None, dual=False, fit_intercept=True,\n",
       "                   intercept_scaling=1, l1_ratio=None, max_iter=100,\n",
       "                   multi_class='warn', n_jobs=None, penalty='l2',\n",
       "                   random_state=None, solver='warn', tol=0.0001, verbose=0,\n",
       "                   warm_start=False)"
      ]
     },
     "execution_count": 125,
     "metadata": {},
     "output_type": "execute_result"
    }
   ],
   "source": [
    "LR_model_hash = LogisticRegression()\n",
    "LR_model_hash.fit(hash_train, y_train)"
   ]
  },
  {
   "cell_type": "code",
   "execution_count": 126,
   "metadata": {},
   "outputs": [],
   "source": [
    "y_pred_LR_hash = LR_model_hash.predict(hash_test)\n",
    "score_LR_hash = accuracy_score(y_test, y_pred_LR_hash)"
   ]
  },
  {
   "cell_type": "code",
   "execution_count": 127,
   "metadata": {},
   "outputs": [
    {
     "name": "stdout",
     "output_type": "stream",
     "text": [
      "Accuracy Score LR_hash : 90.98%\n"
     ]
    }
   ],
   "source": [
    "print(f\"Accuracy Score LR_hash : {round(score_LR_hash*100,2)}%\")"
   ]
  },
  {
   "cell_type": "code",
   "execution_count": 128,
   "metadata": {},
   "outputs": [
    {
     "data": {
      "text/plain": [
       "array([[5409,  558],\n",
       "       [ 642, 6689]], dtype=int64)"
      ]
     },
     "execution_count": 128,
     "metadata": {},
     "output_type": "execute_result"
    }
   ],
   "source": [
    "cfMatrix_LR_hash = confusion_matrix(y_test, y_pred_LR_hash)\n",
    "cfMatrix_LR_hash"
   ]
  },
  {
   "cell_type": "code",
   "execution_count": 129,
   "metadata": {},
   "outputs": [
    {
     "data": {
      "text/plain": [
       "(5409, 558, 642, 6689)"
      ]
     },
     "execution_count": 129,
     "metadata": {},
     "output_type": "execute_result"
    }
   ],
   "source": [
    "tn, fp, fn, tp = cfMatrix_LR_hash.ravel() \n",
    "tn, fp, fn, tp"
   ]
  },
  {
   "cell_type": "code",
   "execution_count": 130,
   "metadata": {},
   "outputs": [
    {
     "data": {
      "text/plain": [
       "Text(33.0, 0.5, 'True Label')"
      ]
     },
     "execution_count": 130,
     "metadata": {},
     "output_type": "execute_result"
    },
    {
     "data": {
      "image/png": "[encoded data removed]",
      "text/plain": [
       "<Figure size 432x288 with 2 Axes>"
      ]
     },
     "metadata": {
      "needs_background": "light"
     },
     "output_type": "display_data"
    }
   ],
   "source": [
    "import seaborn as sns\n",
    "sns.heatmap(cfMatrix_LR_hash, annot=True)\n",
    "plt.xlabel('Predicted Label')\n",
    "plt.ylabel('True Label')\n",
    "#fake =0, Real =1  Yaxis = TRUE VAL  Xaxis = PRED VAL  Order = TN, FP, FN, TP"
   ]
  },
  {
   "cell_type": "markdown",
   "metadata": {},
   "source": [
    "Hash-Random Forest"
   ]
  },
  {
   "cell_type": "code",
   "execution_count": 131,
   "metadata": {},
   "outputs": [
    {
     "data": {
      "text/plain": [
       "RandomForestClassifier(bootstrap=True, class_weight=None, criterion='gini',\n",
       "                       max_depth=None, max_features='auto', max_leaf_nodes=None,\n",
       "                       min_impurity_decrease=0.0, min_impurity_split=None,\n",
       "                       min_samples_leaf=1, min_samples_split=2,\n",
       "                       min_weight_fraction_leaf=0.0, n_estimators=150,\n",
       "                       n_jobs=-1, oob_score=False, random_state=None, verbose=0,\n",
       "                       warm_start=False)"
      ]
     },
     "execution_count": 131,
     "metadata": {},
     "output_type": "execute_result"
    }
   ],
   "source": [
    "rf_model_hash = RandomForestClassifier(n_estimators=150, max_depth=None, n_jobs=-1)\n",
    "rf_model_hash.fit(hash_train, y_train)"
   ]
  },
  {
   "cell_type": "code",
   "execution_count": 132,
   "metadata": {},
   "outputs": [],
   "source": [
    "y_pred_RF_hash = rf_model_hash.predict(hash_test)\n",
    "score_RF_hash = accuracy_score(y_test, y_pred_RF_hash)"
   ]
  },
  {
   "cell_type": "code",
   "execution_count": 133,
   "metadata": {},
   "outputs": [
    {
     "name": "stdout",
     "output_type": "stream",
     "text": [
      "Accuracy Score RF_hash : 90.04%\n"
     ]
    }
   ],
   "source": [
    "print(f\"Accuracy Score RF_hash : {round(score_RF_hash*100,2)}%\")"
   ]
  },
  {
   "cell_type": "code",
   "execution_count": 134,
   "metadata": {},
   "outputs": [
    {
     "data": {
      "text/plain": [
       "array([[5321,  646],\n",
       "       [ 679, 6652]], dtype=int64)"
      ]
     },
     "execution_count": 134,
     "metadata": {},
     "output_type": "execute_result"
    }
   ],
   "source": [
    "cfMatrix_RF_hash = confusion_matrix(y_test, y_pred_RF_hash)\n",
    "cfMatrix_RF_hash"
   ]
  },
  {
   "cell_type": "code",
   "execution_count": 135,
   "metadata": {},
   "outputs": [
    {
     "data": {
      "text/plain": [
       "(5321, 646, 679, 6652)"
      ]
     },
     "execution_count": 135,
     "metadata": {},
     "output_type": "execute_result"
    }
   ],
   "source": [
    "tn, fp, fn, tp = cfMatrix_RF_hash.ravel() \n",
    "tn, fp, fn, tp"
   ]
  },
  {
   "cell_type": "code",
   "execution_count": 136,
   "metadata": {},
   "outputs": [
    {
     "data": {
      "text/plain": [
       "Text(33.0, 0.5, 'True Label')"
      ]
     },
     "execution_count": 136,
     "metadata": {},
     "output_type": "execute_result"
    },
    {
     "data": {
      "image/png": "[encoded data removed]",
      "text/plain": [
       "<Figure size 432x288 with 2 Axes>"
      ]
     },
     "metadata": {
      "needs_background": "light"
     },
     "output_type": "display_data"
    }
   ],
   "source": [
    "import seaborn as sns\n",
    "sns.heatmap(cfMatrix_RF_hash, annot=True)\n",
    "plt.xlabel('Predicted Label')\n",
    "plt.ylabel('True Label')\n",
    "#fake =0, Real =1  Yaxis = TRUE VAL  Xaxis = PRED VAL  Order = TN, FP, FN, TP"
   ]
  },
  {
   "cell_type": "markdown",
   "metadata": {},
   "source": [
    "Hash-Decision Tree"
   ]
  },
  {
   "cell_type": "code",
   "execution_count": 137,
   "metadata": {},
   "outputs": [
    {
     "data": {
      "text/plain": [
       "DecisionTreeClassifier(class_weight=None, criterion='entropy', max_depth=None,\n",
       "                       max_features=None, max_leaf_nodes=None,\n",
       "                       min_impurity_decrease=0.0, min_impurity_split=None,\n",
       "                       min_samples_leaf=1, min_samples_split=2,\n",
       "                       min_weight_fraction_leaf=0.0, presort=False,\n",
       "                       random_state=0, splitter='best')"
      ]
     },
     "execution_count": 137,
     "metadata": {},
     "output_type": "execute_result"
    }
   ],
   "source": [
    "DT_model_hash = DecisionTreeClassifier(criterion ='entropy', random_state=0)\n",
    "DT_model_hash.fit(hash_train, y_train)"
   ]
  },
  {
   "cell_type": "code",
   "execution_count": 138,
   "metadata": {},
   "outputs": [],
   "source": [
    "y_pred_DT_hash = DT_model_hash.predict(hash_test)\n",
    "score_DT_hash = accuracy_score(y_test, y_pred_DT_hash)"
   ]
  },
  {
   "cell_type": "code",
   "execution_count": 139,
   "metadata": {},
   "outputs": [
    {
     "name": "stdout",
     "output_type": "stream",
     "text": [
      "Accuracy Score DT_hash : 86.1%\n"
     ]
    }
   ],
   "source": [
    "print(f\"Accuracy Score DT_hash : {round(score_DT_hash*100,2)}%\")"
   ]
  },
  {
   "cell_type": "code",
   "execution_count": 140,
   "metadata": {},
   "outputs": [
    {
     "data": {
      "text/plain": [
       "array([[5068,  899],\n",
       "       [ 949, 6382]], dtype=int64)"
      ]
     },
     "execution_count": 140,
     "metadata": {},
     "output_type": "execute_result"
    }
   ],
   "source": [
    "cfMatrix_DT_hash = confusion_matrix(y_test, y_pred_DT_hash)\n",
    "cfMatrix_DT_hash"
   ]
  },
  {
   "cell_type": "code",
   "execution_count": 141,
   "metadata": {},
   "outputs": [
    {
     "data": {
      "text/plain": [
       "(5068, 899, 949, 6382)"
      ]
     },
     "execution_count": 141,
     "metadata": {},
     "output_type": "execute_result"
    }
   ],
   "source": [
    "tn, fp, fn, tp = cfMatrix_DT_hash.ravel() \n",
    "tn, fp, fn, tp"
   ]
  },
  {
   "cell_type": "code",
   "execution_count": 142,
   "metadata": {},
   "outputs": [
    {
     "data": {
      "text/plain": [
       "Text(33.0, 0.5, 'True Label')"
      ]
     },
     "execution_count": 142,
     "metadata": {},
     "output_type": "execute_result"
    },
    {
     "data": {
      "image/png": "[encoded data removed]",
      "text/plain": [
       "<Figure size 432x288 with 2 Axes>"
      ]
     },
     "metadata": {
      "needs_background": "light"
     },
     "output_type": "display_data"
    }
   ],
   "source": [
    "import seaborn as sns\n",
    "sns.heatmap(cfMatrix_DT_hash, annot=True)\n",
    "plt.xlabel('Predicted Label')\n",
    "plt.ylabel('True Label')\n",
    "#fake =0, Real =1  Yaxis = TRUE VAL  Xaxis = PRED VAL  Order = TN, FP, FN, TP"
   ]
  },
  {
   "cell_type": "markdown",
   "metadata": {},
   "source": [
    "Hash-Linear SVC"
   ]
  },
  {
   "cell_type": "code",
   "execution_count": 143,
   "metadata": {},
   "outputs": [
    {
     "data": {
      "text/plain": [
       "LinearSVC(C=1.0, class_weight=None, dual=True, fit_intercept=True,\n",
       "          intercept_scaling=1, loss='squared_hinge', max_iter=1000,\n",
       "          multi_class='ovr', penalty='l2', random_state=None, tol=0.0001,\n",
       "          verbose=0)"
      ]
     },
     "execution_count": 143,
     "metadata": {},
     "output_type": "execute_result"
    }
   ],
   "source": [
    "svm_model_hash = LinearSVC()\n",
    "svm_model_hash.fit(hash_train,y_train)"
   ]
  },
  {
   "cell_type": "code",
   "execution_count": 144,
   "metadata": {},
   "outputs": [],
   "source": [
    "y_pred_SVM_hash = svm_model_hash.predict(hash_test)\n",
    "score_SVM_hash = accuracy_score(y_test, y_pred_SVM_hash)"
   ]
  },
  {
   "cell_type": "code",
   "execution_count": 145,
   "metadata": {},
   "outputs": [
    {
     "name": "stdout",
     "output_type": "stream",
     "text": [
      "Accuracy Score SVM_hash : 91.13%\n"
     ]
    }
   ],
   "source": [
    "print(f\"Accuracy Score SVM_hash : {round(score_SVM_hash*100,2)}%\")"
   ]
  },
  {
   "cell_type": "code",
   "execution_count": 146,
   "metadata": {},
   "outputs": [
    {
     "data": {
      "text/plain": [
       "array([[5380,  587],\n",
       "       [ 593, 6738]], dtype=int64)"
      ]
     },
     "execution_count": 146,
     "metadata": {},
     "output_type": "execute_result"
    }
   ],
   "source": [
    "cfMatrix_SVM_hash = confusion_matrix(y_test, y_pred_SVM_hash)\n",
    "cfMatrix_SVM_hash"
   ]
  },
  {
   "cell_type": "code",
   "execution_count": 147,
   "metadata": {},
   "outputs": [
    {
     "data": {
      "text/plain": [
       "(5380, 587, 593, 6738)"
      ]
     },
     "execution_count": 147,
     "metadata": {},
     "output_type": "execute_result"
    }
   ],
   "source": [
    "tn, fp, fn, tp = cfMatrix_SVM_hash.ravel() \n",
    "tn, fp, fn, tp"
   ]
  },
  {
   "cell_type": "code",
   "execution_count": 148,
   "metadata": {},
   "outputs": [
    {
     "data": {
      "text/plain": [
       "Text(33.0, 0.5, 'True Label')"
      ]
     },
     "execution_count": 148,
     "metadata": {},
     "output_type": "execute_result"
    },
    {
     "data": {
      "image/png": "[encoded data removed]",
      "text/plain": [
       "<Figure size 432x288 with 2 Axes>"
      ]
     },
     "metadata": {
      "needs_background": "light"
     },
     "output_type": "display_data"
    }
   ],
   "source": [
    "import seaborn as sns\n",
    "sns.heatmap(cfMatrix_SVM_hash, annot=True)\n",
    "plt.xlabel('Predicted Label')\n",
    "plt.ylabel('True Label')\n",
    "#fake =0, Real =1  Yaxis = TRUE VAL  Xaxis = PRED VAL  Order = TN, FP, FN, TP"
   ]
  },
  {
   "cell_type": "code",
   "execution_count": null,
   "metadata": {},
   "outputs": [],
   "source": []
  },
  {
   "cell_type": "code",
   "execution_count": 149,
   "metadata": {},
   "outputs": [
    {
     "name": "stdout",
     "output_type": "stream",
     "text": [
      "Accuracy Score PR : 90.43%\n",
      "Accuracy Score LR : 91.71%\n",
      "Accuracy Score RF : 88.7%\n",
      "Accuracy Score DT : 86.38%\n",
      "Accuracy Score SVM : 92.22%\n"
     ]
    }
   ],
   "source": [
    "print(f\"Accuracy Score PR : {round(score_PR_Tf*100,2)}%\")\n",
    "print(f\"Accuracy Score LR : {round(score_LR_Tf*100,2)}%\")\n",
    "print(f\"Accuracy Score RF : {round(score_RF_Tf*100,2)}%\")\n",
    "print(f\"Accuracy Score DT : {round(score_DT_Tf*100,2)}%\")\n",
    "print(f\"Accuracy Score SVM : {round(score_SVM_Tf*100,2)}%\")"
   ]
  },
  {
   "cell_type": "code",
   "execution_count": 150,
   "metadata": {},
   "outputs": [
    {
     "name": "stdout",
     "output_type": "stream",
     "text": [
      "Accuracy Score PR_count : 89.12%\n",
      "Accuracy Score LR_count : 92.03%\n",
      "Accuracy Score RF_count : 89.06%\n",
      "Accuracy Score DT_count : 88.69%\n",
      "Accuracy Score SVM_count : 90.01%\n"
     ]
    }
   ],
   "source": [
    "print(f\"Accuracy Score PR_count : {round(score_PR_count*100,2)}%\")\n",
    "print(f\"Accuracy Score LR_count : {round(score_LR_count*100,2)}%\")\n",
    "print(f\"Accuracy Score RF_count : {round(score_RF_count*100,2)}%\")\n",
    "print(f\"Accuracy Score DT_count : {round(score_DT_count*100,2)}%\")\n",
    "print(f\"Accuracy Score SVM_count : {round(score_SVM_count*100,2)}%\")"
   ]
  },
  {
   "cell_type": "code",
   "execution_count": 151,
   "metadata": {},
   "outputs": [
    {
     "name": "stdout",
     "output_type": "stream",
     "text": [
      "Accuracy Score PR_hash : 89.56%\n",
      "Accuracy Score LR_hash : 90.98%\n",
      "Accuracy Score RF_hash : 90.04%\n",
      "Accuracy Score DT_hash : 86.1%\n",
      "Accuracy Score SVM_hash : 91.13%\n"
     ]
    }
   ],
   "source": [
    "print(f\"Accuracy Score PR_hash : {round(score_PR_hash*100,2)}%\")\n",
    "print(f\"Accuracy Score LR_hash : {round(score_LR_hash*100,2)}%\")\n",
    "print(f\"Accuracy Score RF_hash : {round(score_RF_hash*100,2)}%\")\n",
    "print(f\"Accuracy Score DT_hash : {round(score_DT_hash*100,2)}%\")\n",
    "print(f\"Accuracy Score SVM_hash : {round(score_SVM_hash*100,2)}%\")"
   ]
  },
  {
   "cell_type": "code",
   "execution_count": null,
   "metadata": {},
   "outputs": [],
   "source": []
  },
  {
   "cell_type": "code",
   "execution_count": 160,
   "metadata": {},
   "outputs": [
    {
     "data": {
      "image/png": "[encoded data removed]",
      "text/plain": [
       "<Figure size 432x288 with 1 Axes>"
      ]
     },
     "metadata": {
      "needs_background": "light"
     },
     "output_type": "display_data"
    }
   ],
   "source": [
    "import matplotlib.pyplot as plt\n",
    "from sklearn.metrics import roc_curve, auc\n",
    "\n",
    "# PassiveAggressiveClassifier (PR)\n",
    "y_scores_PR_tf = pac.decision_function(tf_test)\n",
    "fpr_PR_tf, tpr_PR_tf, thresholds_PR_tf = roc_curve(y_test, y_scores_PR_tf)\n",
    "roc_auc_PR_tf = auc(fpr_PR_tf, tpr_PR_tf)\n",
    "\n",
    "# LinearRegression (LR)\n",
    "y_scores_LR_tf = LR_model.decision_function(tf_test)\n",
    "fpr_LR_tf, tpr_LR_tf, thresholds_LR_tf = roc_curve(y_test, y_scores_LR_tf)\n",
    "roc_auc_LR_tf = auc(fpr_LR_tf, tpr_LR_tf)\n",
    "\n",
    "# Randomforest (RF)\n",
    "y_scores_RF_tf = rf_model.predict_proba(tf_test)[:, 1]\n",
    "fpr_RF_tf, tpr_RF_tf, thresholds_RF_tf = roc_curve(y_test, y_scores_RF_tf)\n",
    "roc_auc_RF_tf = auc(fpr_RF_tf, tpr_RF_tf)\n",
    "\n",
    "# DecisionTree (DT)\n",
    "y_scores_DT_tf = DT_model.predict_proba(tf_test)[:, 1]\n",
    "fpr_DT_tf, tpr_DT_tf, thresholds_DT_tf = roc_curve(y_test, y_scores_DT_tf)\n",
    "roc_auc_DT_tf = auc(fpr_DT_tf, tpr_DT_tf)\n",
    "\n",
    "# LinearSVC (SVM)\n",
    "y_scores_SVM_tf = svm_model.decision_function(tf_test)\n",
    "fpr_SVM_tf, tpr_SVM_tf, thresholds_SVM_tf = roc_curve(y_test, y_scores_SVM_tf)\n",
    "roc_auc_SVM_tf = auc(fpr_SVM_tf, tpr_SVM_tf)\n",
    "\n",
    "# Plotting the ROC curves\n",
    "plt.figure()\n",
    "plt.plot(fpr_PR_tf, tpr_PR_tf, color='green', lw=2, label='PassiveAggressiveClassifier, AUC = %0.2f' % roc_auc_PR_tf)\n",
    "plt.plot(fpr_LR_tf, tpr_LR_tf, color='red', lw=2, label='LinearRegression, AUC = %0.2f' % roc_auc_LR_tf)\n",
    "plt.plot(fpr_RF_tf, tpr_RF_tf, color='violet', lw=2, label='Randomforest, AUC = %0.2f' % roc_auc_RF_tf)\n",
    "plt.plot(fpr_DT_tf, tpr_DT_tf, color='yellow', lw=2, label='DecisionTree, AUC = %0.2f' % roc_auc_DT_tf)\n",
    "plt.plot(fpr_SVM_tf, tpr_SVM_tf, color='blue', lw=2, label='LinearSVC, AUC = %0.2f' % roc_auc_SVM_tf)\n",
    "plt.plot([0, 1], [0, 1], color='black', lw=1, linestyle='--')\n",
    "plt.xlim([0.0, 1.0])\n",
    "plt.ylim([0.0, 1.05])\n",
    "plt.xlabel('False Positive Rate')\n",
    "plt.ylabel('True Positive Rate')\n",
    "plt.title('ROC Curves - TF-IDF')\n",
    "plt.legend(loc=\"lower right\")\n",
    "plt.show()\n"
   ]
  },
  {
   "cell_type": "code",
   "execution_count": null,
   "metadata": {},
   "outputs": [],
   "source": []
  },
  {
   "cell_type": "code",
   "execution_count": null,
   "metadata": {},
   "outputs": [],
   "source": []
  },
  {
   "cell_type": "code",
   "execution_count": null,
   "metadata": {},
   "outputs": [],
   "source": []
  },
  {
   "cell_type": "code",
   "execution_count": 144,
   "metadata": {},
   "outputs": [
    {
     "name": "stderr",
     "output_type": "stream",
     "text": [
      "C:\\Users\\BAASHITH\\Anaconda3\\lib\\site-packages\\sklearn\\linear_model\\logistic.py:432: FutureWarning: Default solver will be changed to 'lbfgs' in 0.22. Specify a solver to silence this warning.\n",
      "  FutureWarning)\n",
      "C:\\Users\\BAASHITH\\Anaconda3\\lib\\site-packages\\sklearn\\linear_model\\logistic.py:432: FutureWarning: Default solver will be changed to 'lbfgs' in 0.22. Specify a solver to silence this warning.\n",
      "  FutureWarning)\n",
      "C:\\Users\\BAASHITH\\Anaconda3\\lib\\site-packages\\sklearn\\svm\\base.py:929: ConvergenceWarning: Liblinear failed to converge, increase the number of iterations.\n",
      "  \"the number of iterations.\", ConvergenceWarning)\n",
      "C:\\Users\\BAASHITH\\Anaconda3\\lib\\site-packages\\sklearn\\svm\\base.py:929: ConvergenceWarning: Liblinear failed to converge, increase the number of iterations.\n",
      "  \"the number of iterations.\", ConvergenceWarning)\n",
      "C:\\Users\\BAASHITH\\Anaconda3\\lib\\site-packages\\sklearn\\linear_model\\logistic.py:432: FutureWarning: Default solver will be changed to 'lbfgs' in 0.22. Specify a solver to silence this warning.\n",
      "  FutureWarning)\n"
     ]
    },
    {
     "name": "stdout",
     "output_type": "stream",
     "text": [
      "\n",
      "OVERALL PERFORMANCE RESULTS:\n",
      "\n",
      "    Accuracy                   Classifier            Confusion Matrix  \\\n",
      "0   0.904121  PassiveAggressiveClassifier  [[5282, 685], [590, 6741]]   \n",
      "1   0.917055           LogisticRegression  [[5396, 571], [532, 6799]]   \n",
      "2   0.884795       RandomForestClassifier  [[5084, 883], [649, 6682]]   \n",
      "3   0.863814       DecisionTreeClassifier  [[5104, 863], [948, 6383]]   \n",
      "4   0.922169                    LinearSVC  [[5415, 552], [483, 6848]]   \n",
      "5   0.902918  PassiveAggressiveClassifier  [[5238, 729], [562, 6769]]   \n",
      "6   0.920289           LogisticRegression  [[5460, 507], [553, 6778]]   \n",
      "7   0.889683       RandomForestClassifier  [[5046, 921], [546, 6785]]   \n",
      "8   0.886900       DecisionTreeClassifier  [[5233, 734], [770, 6561]]   \n",
      "9   0.899684                    LinearSVC  [[5293, 674], [660, 6671]]   \n",
      "10  0.896601  PassiveAggressiveClassifier  [[5307, 660], [715, 6616]]   \n",
      "11  0.909761           LogisticRegression  [[5409, 558], [642, 6689]]   \n",
      "12  0.900662       RandomForestClassifier  [[5313, 654], [667, 6664]]   \n",
      "13  0.861032       DecisionTreeClassifier  [[5068, 899], [949, 6382]]   \n",
      "14  0.911265                    LinearSVC  [[5380, 587], [593, 6738]]   \n",
      "\n",
      "    F1-score  Precision    Recall         Vectorizer  \n",
      "0   0.902953   0.903640  0.902361    TfidfVectorizer  \n",
      "1   0.916122   0.916390  0.915869    TfidfVectorizer  \n",
      "2   0.883107   0.885037  0.881746    TfidfVectorizer  \n",
      "3   0.862543   0.862129  0.863029    TfidfVectorizer  \n",
      "4   0.921254   0.921757  0.920803    TfidfVectorizer  \n",
      "5   0.901614   0.902939  0.900584    CountVectorizer  \n",
      "6   0.919498   0.919219  0.919800    CountVectorizer  \n",
      "7   0.887763   0.891422  0.885586    CountVectorizer  \n",
      "8   0.885761   0.885557  0.885978    CountVectorizer  \n",
      "9   0.898595   0.898684  0.898508    CountVectorizer  \n",
      "10  0.895589   0.895280  0.895930  HashingVectorizer  \n",
      "11  0.908917   0.908452  0.909456  HashingVectorizer  \n",
      "12  0.899626   0.899546  0.899707  HashingVectorizer  \n",
      "13  0.859661   0.859404  0.859944  HashingVectorizer  \n",
      "14  0.910330   0.910292  0.910368  HashingVectorizer  \n",
      "\n",
      "Vectorizer-Classifier GROUPBY RESULTS:\n",
      "\n",
      "                                               Accuracy  F1-score  Precision  \\\n",
      "Vectorizer        Classifier                                                   \n",
      "CountVectorizer   DecisionTreeClassifier       0.886900  0.885761   0.885557   \n",
      "                  LinearSVC                    0.899684  0.898595   0.898684   \n",
      "                  LogisticRegression           0.920289  0.919498   0.919219   \n",
      "                  PassiveAggressiveClassifier  0.902918  0.901614   0.902939   \n",
      "                  RandomForestClassifier       0.889683  0.887763   0.891422   \n",
      "HashingVectorizer DecisionTreeClassifier       0.861032  0.859661   0.859404   \n",
      "                  LinearSVC                    0.911265  0.910330   0.910292   \n",
      "                  LogisticRegression           0.909761  0.908917   0.908452   \n",
      "                  PassiveAggressiveClassifier  0.896601  0.895589   0.895280   \n",
      "                  RandomForestClassifier       0.900662  0.899626   0.899546   \n",
      "TfidfVectorizer   DecisionTreeClassifier       0.863814  0.862543   0.862129   \n",
      "                  LinearSVC                    0.922169  0.921254   0.921757   \n",
      "                  LogisticRegression           0.917055  0.916122   0.916390   \n",
      "                  PassiveAggressiveClassifier  0.904121  0.902953   0.903640   \n",
      "                  RandomForestClassifier       0.884795  0.883107   0.885037   \n",
      "\n",
      "                                                 Recall  \n",
      "Vectorizer        Classifier                             \n",
      "CountVectorizer   DecisionTreeClassifier       0.885978  \n",
      "                  LinearSVC                    0.898508  \n",
      "                  LogisticRegression           0.919800  \n",
      "                  PassiveAggressiveClassifier  0.900584  \n",
      "                  RandomForestClassifier       0.885586  \n",
      "HashingVectorizer DecisionTreeClassifier       0.859944  \n",
      "                  LinearSVC                    0.910368  \n",
      "                  LogisticRegression           0.909456  \n",
      "                  PassiveAggressiveClassifier  0.895930  \n",
      "                  RandomForestClassifier       0.899707  \n",
      "TfidfVectorizer   DecisionTreeClassifier       0.863029  \n",
      "                  LinearSVC                    0.920803  \n",
      "                  LogisticRegression           0.915869  \n",
      "                  PassiveAggressiveClassifier  0.902361  \n",
      "                  RandomForestClassifier       0.881746  \n",
      "\n",
      "BEST MODEL:\n",
      "\n",
      "Accuracy                              0.922169\n",
      "Classifier                           LinearSVC\n",
      "Confusion Matrix    [[5415, 552], [483, 6848]]\n",
      "F1-score                              0.921254\n",
      "Precision                             0.921757\n",
      "Recall                                0.920803\n",
      "Vectorizer                     TfidfVectorizer\n",
      "Name: 4, dtype: object\n",
      "\n",
      "BEST PERFORMANCE ALGORITHM:\n",
      "\n",
      "The TfidfVectorizer performs the best overall.\n",
      "The LinearSVC performs the best overall.\n"
     ]
    }
   ],
   "source": [
    "import pandas as pd\n",
    "from sklearn.feature_extraction.text import TfidfVectorizer, CountVectorizer, HashingVectorizer\n",
    "from sklearn.linear_model import PassiveAggressiveClassifier, LogisticRegression\n",
    "from sklearn.ensemble import RandomForestClassifier\n",
    "from sklearn.tree import DecisionTreeClassifier\n",
    "from sklearn.svm import LinearSVC\n",
    "from sklearn.metrics import accuracy_score, precision_score, recall_score, f1_score, confusion_matrix\n",
    "\n",
    "\n",
    "vectorizers_list = [TfidfVectorizer(stop_words = 'english', max_df=0.7), CountVectorizer(), HashingVectorizer(stop_words='english',n_features=5000)]\n",
    "classifiers_list = [PassiveAggressiveClassifier(max_iter=50), LogisticRegression(), RandomForestClassifier(n_estimators=150, max_depth=None, n_jobs=-1), DecisionTreeClassifier(criterion ='entropy', random_state=0), LinearSVC()]\n",
    "results = []\n",
    "\n",
    "for vectorizer in vectorizers_list:\n",
    "    X_train_vectorized = vectorizer.fit_transform(X_train)\n",
    "    x_test_vectorized = vectorizer.transform(x_test)\n",
    "    for classifier in classifiers_list:\n",
    "        classifier.fit(X_train_vectorized, y_train)\n",
    "        y_pred = classifier.predict(x_test_vectorized)\n",
    "        accuracy = accuracy_score(y_test, y_pred)\n",
    "       # precision = precision_score(y_test, y_pred)\n",
    "        precision = precision_score(y_test, y_pred, average='macro')\n",
    "       # recall = recall_score(y_test, y_pred)\n",
    "        recall = recall_score(y_test, y_pred, average='macro')\n",
    "      #  f1 = f1_score(y_test, y_pred)\n",
    "        f1score = f1_score(y_test, y_pred, average='macro')\n",
    "        cm = confusion_matrix(y_test, y_pred)\n",
    "        results.append({\n",
    "            'Vectorizer': type(vectorizer).__name__,\n",
    "            'Classifier': type(classifier).__name__,\n",
    "            'Accuracy': accuracy,\n",
    "            'Precision': precision,\n",
    "            'Recall': recall,\n",
    "            'F1-score': f1score,\n",
    "            'Confusion Matrix': cm\n",
    "        })\n",
    "\n",
    "df_results = pd.DataFrame(results)\n",
    "print(\"\\nOVERALL PERFORMANCE RESULTS:\\n\")\n",
    "print(df_results)\n",
    "\n",
    "grouped_results = df_results.groupby(['Vectorizer', 'Classifier'])\n",
    "\n",
    "\n",
    "mean_results = grouped_results.mean()\n",
    "\n",
    "print(\"\\nVectorizer-Classifier GROUPBY RESULTS:\\n\")\n",
    "print(mean_results)\n",
    "\n",
    "best_model = df_results.iloc[df_results['F1-score'].idxmax()]\n",
    "\n",
    "print(\"\\nBEST MODEL:\\n\")\n",
    "print(best_model)\n",
    "\n",
    "print(\"\\nBEST PERFORMANCE ALGORITHM:\\n\")\n",
    "if best_model['Vectorizer'] == 'TfidfVectorizer':\n",
    "    print('The TfidfVectorizer performs the best overall.')\n",
    "elif best_model['Vectorizer'] == 'CountVectorizer':\n",
    "    print('The CountVectorizer performs the best overall.')\n",
    "else:\n",
    "    print('The HashingVectorizer performs the best overall.')\n",
    "    \n",
    "    \n",
    "if best_model['Classifier'] == 'PassiveAggressiveClassifier':\n",
    "    print('The Passive Aggressive Classifier performs the best overall.')\n",
    "elif best_model['Classifier'] == 'LogisticRegression':\n",
    "    print('The LogisticRegression performs the best overall.')\n",
    "elif best_model['Classifier'] == 'RandomForestClassifier':\n",
    "    print('The RandomForestClassifier performs the best overall.')\n",
    "elif best_model['Classifier'] == 'DecisionTreeClassifier':\n",
    "    print('The DecisionTreeClassifier performs the best overall.')\n",
    "else:\n",
    "    print('The LinearSVC performs the best overall.')"
   ]
  },
  {
   "cell_type": "code",
   "execution_count": 147,
   "metadata": {},
   "outputs": [
    {
     "data": {
      "image/png": "[encoded data removed]",
      "text/plain": [
       "<Figure size 720x432 with 1 Axes>"
      ]
     },
     "metadata": {
      "needs_background": "light"
     },
     "output_type": "display_data"
    }
   ],
   "source": [
    "import matplotlib.pyplot as plt\n",
    "from matplotlib.ticker import FuncFormatter\n",
    "\n",
    "def percentage(x, pos):\n",
    "    return '{:.0%}'.format(x)\n",
    "\n",
    "graph = mean_results.plot(kind='bar', y=['Accuracy', 'Precision', 'Recall', 'F1-score'], ylim=(0, 1), rot=800, figsize=(10, 6))\n",
    "\n",
    "\n",
    "formatter = FuncFormatter(percentage)\n",
    "\n",
    "graph.yaxis.set_major_formatter(formatter)\n",
    "\n",
    "graph.set_xlabel('Vectorizer-Classifier')\n",
    "graph.set_ylabel('Percentage')\n",
    "graph.set_title('Performance Results')\n",
    "plt.show()\n"
   ]
  },
  {
   "cell_type": "code",
   "execution_count": null,
   "metadata": {},
   "outputs": [],
   "source": []
  },
  {
   "cell_type": "code",
   "execution_count": null,
   "metadata": {},
   "outputs": [],
   "source": []
  },
  {
   "cell_type": "markdown",
   "metadata": {},
   "source": [
    "Pickiling the Model"
   ]
  },
  {
   "cell_type": "code",
   "execution_count": 145,
   "metadata": {},
   "outputs": [],
   "source": [
    "import pickle\n",
    "filename = 'bin_finalized_model_SVM.pkl'\n",
    "pickle.dump(svm_model, open(filename,'wb'))"
   ]
  },
  {
   "cell_type": "code",
   "execution_count": 146,
   "metadata": {},
   "outputs": [],
   "source": [
    "filename = 'bin_vectorizer_TF_IDF.pkl'\n",
    "pickle.dump(vector, open(filename,'wb'))"
   ]
  },
  {
   "cell_type": "code",
   "execution_count": null,
   "metadata": {},
   "outputs": [],
   "source": []
  }
 ],
 "metadata": {
  "kernelspec": {
   "display_name": "Python 3",
   "language": "python",
   "name": "python3"
  },
  "language_info": {
   "codemirror_mode": {
    "name": "ipython",
    "version": 3
   },
   "file_extension": ".py",
   "mimetype": "text/x-python",
   "name": "python",
   "nbconvert_exporter": "python",
   "pygments_lexer": "ipython3",
   "version": "3.7.3"
  }
 },
 "nbformat": 4,
 "nbformat_minor": 2
}
